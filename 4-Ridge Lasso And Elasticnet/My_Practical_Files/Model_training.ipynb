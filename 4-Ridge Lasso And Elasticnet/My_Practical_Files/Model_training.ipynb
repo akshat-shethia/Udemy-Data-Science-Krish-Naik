{
 "cells": [
  {
   "cell_type": "code",
   "execution_count": 2,
   "metadata": {},
   "outputs": [],
   "source": [
    "import pandas as pd\n",
    "import numpy as np\n",
    "import matplotlib.pyplot as plt\n",
    "import seaborn as sns\n",
    "%matplotlib inline"
   ]
  },
  {
   "cell_type": "code",
   "execution_count": 3,
   "metadata": {},
   "outputs": [
    {
     "data": {
      "text/html": [
       "<div>\n",
       "<style scoped>\n",
       "    .dataframe tbody tr th:only-of-type {\n",
       "        vertical-align: middle;\n",
       "    }\n",
       "\n",
       "    .dataframe tbody tr th {\n",
       "        vertical-align: top;\n",
       "    }\n",
       "\n",
       "    .dataframe thead th {\n",
       "        text-align: right;\n",
       "    }\n",
       "</style>\n",
       "<table border=\"1\" class=\"dataframe\">\n",
       "  <thead>\n",
       "    <tr style=\"text-align: right;\">\n",
       "      <th></th>\n",
       "      <th>day</th>\n",
       "      <th>month</th>\n",
       "      <th>year</th>\n",
       "      <th>Temperature</th>\n",
       "      <th>RH</th>\n",
       "      <th>Ws</th>\n",
       "      <th>Rain</th>\n",
       "      <th>FFMC</th>\n",
       "      <th>DMC</th>\n",
       "      <th>DC</th>\n",
       "      <th>ISI</th>\n",
       "      <th>BUI</th>\n",
       "      <th>FWI</th>\n",
       "      <th>Classes</th>\n",
       "      <th>Region</th>\n",
       "    </tr>\n",
       "  </thead>\n",
       "  <tbody>\n",
       "    <tr>\n",
       "      <th>0</th>\n",
       "      <td>1.0</td>\n",
       "      <td>6</td>\n",
       "      <td>2012</td>\n",
       "      <td>29</td>\n",
       "      <td>57</td>\n",
       "      <td>18</td>\n",
       "      <td>0.0</td>\n",
       "      <td>65.7</td>\n",
       "      <td>3.4</td>\n",
       "      <td>7.6</td>\n",
       "      <td>1.3</td>\n",
       "      <td>3.4</td>\n",
       "      <td>0.5</td>\n",
       "      <td>not fire</td>\n",
       "      <td>0</td>\n",
       "    </tr>\n",
       "    <tr>\n",
       "      <th>1</th>\n",
       "      <td>2.0</td>\n",
       "      <td>6</td>\n",
       "      <td>2012</td>\n",
       "      <td>29</td>\n",
       "      <td>61</td>\n",
       "      <td>13</td>\n",
       "      <td>1.3</td>\n",
       "      <td>64.4</td>\n",
       "      <td>4.1</td>\n",
       "      <td>7.6</td>\n",
       "      <td>1.0</td>\n",
       "      <td>3.9</td>\n",
       "      <td>0.4</td>\n",
       "      <td>not fire</td>\n",
       "      <td>0</td>\n",
       "    </tr>\n",
       "    <tr>\n",
       "      <th>2</th>\n",
       "      <td>3.0</td>\n",
       "      <td>6</td>\n",
       "      <td>2012</td>\n",
       "      <td>26</td>\n",
       "      <td>82</td>\n",
       "      <td>22</td>\n",
       "      <td>13.1</td>\n",
       "      <td>47.1</td>\n",
       "      <td>2.5</td>\n",
       "      <td>7.1</td>\n",
       "      <td>0.3</td>\n",
       "      <td>2.7</td>\n",
       "      <td>0.1</td>\n",
       "      <td>not fire</td>\n",
       "      <td>0</td>\n",
       "    </tr>\n",
       "    <tr>\n",
       "      <th>3</th>\n",
       "      <td>4.0</td>\n",
       "      <td>6</td>\n",
       "      <td>2012</td>\n",
       "      <td>25</td>\n",
       "      <td>89</td>\n",
       "      <td>13</td>\n",
       "      <td>2.5</td>\n",
       "      <td>28.6</td>\n",
       "      <td>1.3</td>\n",
       "      <td>6.9</td>\n",
       "      <td>0.0</td>\n",
       "      <td>1.7</td>\n",
       "      <td>0.0</td>\n",
       "      <td>not fire</td>\n",
       "      <td>0</td>\n",
       "    </tr>\n",
       "    <tr>\n",
       "      <th>4</th>\n",
       "      <td>5.0</td>\n",
       "      <td>6</td>\n",
       "      <td>2012</td>\n",
       "      <td>27</td>\n",
       "      <td>77</td>\n",
       "      <td>16</td>\n",
       "      <td>0.0</td>\n",
       "      <td>64.8</td>\n",
       "      <td>3.0</td>\n",
       "      <td>14.2</td>\n",
       "      <td>1.2</td>\n",
       "      <td>3.9</td>\n",
       "      <td>0.5</td>\n",
       "      <td>not fire</td>\n",
       "      <td>0</td>\n",
       "    </tr>\n",
       "  </tbody>\n",
       "</table>\n",
       "</div>"
      ],
      "text/plain": [
       "   day  month  year  Temperature  RH  Ws  Rain  FFMC  DMC    DC  ISI  BUI  \\\n",
       "0  1.0      6  2012           29  57  18   0.0  65.7  3.4   7.6  1.3  3.4   \n",
       "1  2.0      6  2012           29  61  13   1.3  64.4  4.1   7.6  1.0  3.9   \n",
       "2  3.0      6  2012           26  82  22  13.1  47.1  2.5   7.1  0.3  2.7   \n",
       "3  4.0      6  2012           25  89  13   2.5  28.6  1.3   6.9  0.0  1.7   \n",
       "4  5.0      6  2012           27  77  16   0.0  64.8  3.0  14.2  1.2  3.9   \n",
       "\n",
       "   FWI      Classes  Region  \n",
       "0  0.5  not fire          0  \n",
       "1  0.4  not fire          0  \n",
       "2  0.1  not fire          0  \n",
       "3  0.0  not fire          0  \n",
       "4  0.5  not fire          0  "
      ]
     },
     "execution_count": 3,
     "metadata": {},
     "output_type": "execute_result"
    }
   ],
   "source": [
    "df = pd.read_csv(\"Algerian_forest_fires_dataset_UPDATE_CLEANED.csv\")\n",
    "df.head()"
   ]
  },
  {
   "cell_type": "code",
   "execution_count": 4,
   "metadata": {},
   "outputs": [
    {
     "data": {
      "text/plain": [
       "Index(['day', 'month', 'year', 'Temperature', 'RH', 'Ws', 'Rain', 'FFMC',\n",
       "       'DMC', 'DC', 'ISI', 'BUI', 'FWI', 'Classes', 'Region'],\n",
       "      dtype='object')"
      ]
     },
     "execution_count": 4,
     "metadata": {},
     "output_type": "execute_result"
    }
   ],
   "source": [
    "df.columns"
   ]
  },
  {
   "cell_type": "code",
   "execution_count": 5,
   "metadata": {},
   "outputs": [],
   "source": [
    "df.drop(['day', 'month', 'year'], axis = 1, inplace = True)"
   ]
  },
  {
   "cell_type": "code",
   "execution_count": 6,
   "metadata": {},
   "outputs": [
    {
     "data": {
      "text/html": [
       "<div>\n",
       "<style scoped>\n",
       "    .dataframe tbody tr th:only-of-type {\n",
       "        vertical-align: middle;\n",
       "    }\n",
       "\n",
       "    .dataframe tbody tr th {\n",
       "        vertical-align: top;\n",
       "    }\n",
       "\n",
       "    .dataframe thead th {\n",
       "        text-align: right;\n",
       "    }\n",
       "</style>\n",
       "<table border=\"1\" class=\"dataframe\">\n",
       "  <thead>\n",
       "    <tr style=\"text-align: right;\">\n",
       "      <th></th>\n",
       "      <th>Temperature</th>\n",
       "      <th>RH</th>\n",
       "      <th>Ws</th>\n",
       "      <th>Rain</th>\n",
       "      <th>FFMC</th>\n",
       "      <th>DMC</th>\n",
       "      <th>DC</th>\n",
       "      <th>ISI</th>\n",
       "      <th>BUI</th>\n",
       "      <th>FWI</th>\n",
       "      <th>Classes</th>\n",
       "      <th>Region</th>\n",
       "    </tr>\n",
       "  </thead>\n",
       "  <tbody>\n",
       "    <tr>\n",
       "      <th>0</th>\n",
       "      <td>29</td>\n",
       "      <td>57</td>\n",
       "      <td>18</td>\n",
       "      <td>0.0</td>\n",
       "      <td>65.7</td>\n",
       "      <td>3.4</td>\n",
       "      <td>7.6</td>\n",
       "      <td>1.3</td>\n",
       "      <td>3.4</td>\n",
       "      <td>0.5</td>\n",
       "      <td>not fire</td>\n",
       "      <td>0</td>\n",
       "    </tr>\n",
       "    <tr>\n",
       "      <th>1</th>\n",
       "      <td>29</td>\n",
       "      <td>61</td>\n",
       "      <td>13</td>\n",
       "      <td>1.3</td>\n",
       "      <td>64.4</td>\n",
       "      <td>4.1</td>\n",
       "      <td>7.6</td>\n",
       "      <td>1.0</td>\n",
       "      <td>3.9</td>\n",
       "      <td>0.4</td>\n",
       "      <td>not fire</td>\n",
       "      <td>0</td>\n",
       "    </tr>\n",
       "    <tr>\n",
       "      <th>2</th>\n",
       "      <td>26</td>\n",
       "      <td>82</td>\n",
       "      <td>22</td>\n",
       "      <td>13.1</td>\n",
       "      <td>47.1</td>\n",
       "      <td>2.5</td>\n",
       "      <td>7.1</td>\n",
       "      <td>0.3</td>\n",
       "      <td>2.7</td>\n",
       "      <td>0.1</td>\n",
       "      <td>not fire</td>\n",
       "      <td>0</td>\n",
       "    </tr>\n",
       "    <tr>\n",
       "      <th>3</th>\n",
       "      <td>25</td>\n",
       "      <td>89</td>\n",
       "      <td>13</td>\n",
       "      <td>2.5</td>\n",
       "      <td>28.6</td>\n",
       "      <td>1.3</td>\n",
       "      <td>6.9</td>\n",
       "      <td>0.0</td>\n",
       "      <td>1.7</td>\n",
       "      <td>0.0</td>\n",
       "      <td>not fire</td>\n",
       "      <td>0</td>\n",
       "    </tr>\n",
       "    <tr>\n",
       "      <th>4</th>\n",
       "      <td>27</td>\n",
       "      <td>77</td>\n",
       "      <td>16</td>\n",
       "      <td>0.0</td>\n",
       "      <td>64.8</td>\n",
       "      <td>3.0</td>\n",
       "      <td>14.2</td>\n",
       "      <td>1.2</td>\n",
       "      <td>3.9</td>\n",
       "      <td>0.5</td>\n",
       "      <td>not fire</td>\n",
       "      <td>0</td>\n",
       "    </tr>\n",
       "  </tbody>\n",
       "</table>\n",
       "</div>"
      ],
      "text/plain": [
       "   Temperature  RH  Ws  Rain  FFMC  DMC    DC  ISI  BUI  FWI      Classes  \\\n",
       "0           29  57  18   0.0  65.7  3.4   7.6  1.3  3.4  0.5  not fire      \n",
       "1           29  61  13   1.3  64.4  4.1   7.6  1.0  3.9  0.4  not fire      \n",
       "2           26  82  22  13.1  47.1  2.5   7.1  0.3  2.7  0.1  not fire      \n",
       "3           25  89  13   2.5  28.6  1.3   6.9  0.0  1.7  0.0  not fire      \n",
       "4           27  77  16   0.0  64.8  3.0  14.2  1.2  3.9  0.5  not fire      \n",
       "\n",
       "   Region  \n",
       "0       0  \n",
       "1       0  \n",
       "2       0  \n",
       "3       0  \n",
       "4       0  "
      ]
     },
     "execution_count": 6,
     "metadata": {},
     "output_type": "execute_result"
    }
   ],
   "source": [
    "df.head()"
   ]
  },
  {
   "cell_type": "code",
   "execution_count": 7,
   "metadata": {},
   "outputs": [
    {
     "data": {
      "text/plain": [
       "Classes\n",
       "fire             131\n",
       "not fire         101\n",
       "fire               4\n",
       "fire               2\n",
       "not fire           2\n",
       "not fire           1\n",
       "not fire           1\n",
       "not fire           1\n",
       "Name: count, dtype: int64"
      ]
     },
     "execution_count": 7,
     "metadata": {},
     "output_type": "execute_result"
    }
   ],
   "source": [
    "df[\"Classes\"].value_counts()"
   ]
  },
  {
   "cell_type": "code",
   "execution_count": 8,
   "metadata": {},
   "outputs": [],
   "source": [
    "df[\"Classes\"] = np.where(df[\"Classes\"].str.contains(\"not fire\"),0,1)"
   ]
  },
  {
   "cell_type": "code",
   "execution_count": 9,
   "metadata": {},
   "outputs": [
    {
     "data": {
      "text/html": [
       "<div>\n",
       "<style scoped>\n",
       "    .dataframe tbody tr th:only-of-type {\n",
       "        vertical-align: middle;\n",
       "    }\n",
       "\n",
       "    .dataframe tbody tr th {\n",
       "        vertical-align: top;\n",
       "    }\n",
       "\n",
       "    .dataframe thead th {\n",
       "        text-align: right;\n",
       "    }\n",
       "</style>\n",
       "<table border=\"1\" class=\"dataframe\">\n",
       "  <thead>\n",
       "    <tr style=\"text-align: right;\">\n",
       "      <th></th>\n",
       "      <th>Temperature</th>\n",
       "      <th>RH</th>\n",
       "      <th>Ws</th>\n",
       "      <th>Rain</th>\n",
       "      <th>FFMC</th>\n",
       "      <th>DMC</th>\n",
       "      <th>DC</th>\n",
       "      <th>ISI</th>\n",
       "      <th>BUI</th>\n",
       "      <th>FWI</th>\n",
       "      <th>Classes</th>\n",
       "      <th>Region</th>\n",
       "    </tr>\n",
       "  </thead>\n",
       "  <tbody>\n",
       "    <tr>\n",
       "      <th>0</th>\n",
       "      <td>29</td>\n",
       "      <td>57</td>\n",
       "      <td>18</td>\n",
       "      <td>0.0</td>\n",
       "      <td>65.7</td>\n",
       "      <td>3.4</td>\n",
       "      <td>7.6</td>\n",
       "      <td>1.3</td>\n",
       "      <td>3.4</td>\n",
       "      <td>0.5</td>\n",
       "      <td>0</td>\n",
       "      <td>0</td>\n",
       "    </tr>\n",
       "    <tr>\n",
       "      <th>1</th>\n",
       "      <td>29</td>\n",
       "      <td>61</td>\n",
       "      <td>13</td>\n",
       "      <td>1.3</td>\n",
       "      <td>64.4</td>\n",
       "      <td>4.1</td>\n",
       "      <td>7.6</td>\n",
       "      <td>1.0</td>\n",
       "      <td>3.9</td>\n",
       "      <td>0.4</td>\n",
       "      <td>0</td>\n",
       "      <td>0</td>\n",
       "    </tr>\n",
       "    <tr>\n",
       "      <th>2</th>\n",
       "      <td>26</td>\n",
       "      <td>82</td>\n",
       "      <td>22</td>\n",
       "      <td>13.1</td>\n",
       "      <td>47.1</td>\n",
       "      <td>2.5</td>\n",
       "      <td>7.1</td>\n",
       "      <td>0.3</td>\n",
       "      <td>2.7</td>\n",
       "      <td>0.1</td>\n",
       "      <td>0</td>\n",
       "      <td>0</td>\n",
       "    </tr>\n",
       "    <tr>\n",
       "      <th>3</th>\n",
       "      <td>25</td>\n",
       "      <td>89</td>\n",
       "      <td>13</td>\n",
       "      <td>2.5</td>\n",
       "      <td>28.6</td>\n",
       "      <td>1.3</td>\n",
       "      <td>6.9</td>\n",
       "      <td>0.0</td>\n",
       "      <td>1.7</td>\n",
       "      <td>0.0</td>\n",
       "      <td>0</td>\n",
       "      <td>0</td>\n",
       "    </tr>\n",
       "    <tr>\n",
       "      <th>4</th>\n",
       "      <td>27</td>\n",
       "      <td>77</td>\n",
       "      <td>16</td>\n",
       "      <td>0.0</td>\n",
       "      <td>64.8</td>\n",
       "      <td>3.0</td>\n",
       "      <td>14.2</td>\n",
       "      <td>1.2</td>\n",
       "      <td>3.9</td>\n",
       "      <td>0.5</td>\n",
       "      <td>0</td>\n",
       "      <td>0</td>\n",
       "    </tr>\n",
       "  </tbody>\n",
       "</table>\n",
       "</div>"
      ],
      "text/plain": [
       "   Temperature  RH  Ws  Rain  FFMC  DMC    DC  ISI  BUI  FWI  Classes  Region\n",
       "0           29  57  18   0.0  65.7  3.4   7.6  1.3  3.4  0.5        0       0\n",
       "1           29  61  13   1.3  64.4  4.1   7.6  1.0  3.9  0.4        0       0\n",
       "2           26  82  22  13.1  47.1  2.5   7.1  0.3  2.7  0.1        0       0\n",
       "3           25  89  13   2.5  28.6  1.3   6.9  0.0  1.7  0.0        0       0\n",
       "4           27  77  16   0.0  64.8  3.0  14.2  1.2  3.9  0.5        0       0"
      ]
     },
     "execution_count": 9,
     "metadata": {},
     "output_type": "execute_result"
    }
   ],
   "source": [
    "df.head()"
   ]
  },
  {
   "cell_type": "code",
   "execution_count": 10,
   "metadata": {},
   "outputs": [
    {
     "data": {
      "text/plain": [
       "Classes\n",
       "1    137\n",
       "0    106\n",
       "Name: count, dtype: int64"
      ]
     },
     "execution_count": 10,
     "metadata": {},
     "output_type": "execute_result"
    }
   ],
   "source": [
    "df[\"Classes\"].value_counts()"
   ]
  },
  {
   "cell_type": "code",
   "execution_count": 11,
   "metadata": {},
   "outputs": [],
   "source": [
    "X = df.drop(\"FWI\",axis = 1)\n",
    "Y = df[\"FWI\"]"
   ]
  },
  {
   "cell_type": "code",
   "execution_count": 12,
   "metadata": {},
   "outputs": [
    {
     "data": {
      "text/html": [
       "<div>\n",
       "<style scoped>\n",
       "    .dataframe tbody tr th:only-of-type {\n",
       "        vertical-align: middle;\n",
       "    }\n",
       "\n",
       "    .dataframe tbody tr th {\n",
       "        vertical-align: top;\n",
       "    }\n",
       "\n",
       "    .dataframe thead th {\n",
       "        text-align: right;\n",
       "    }\n",
       "</style>\n",
       "<table border=\"1\" class=\"dataframe\">\n",
       "  <thead>\n",
       "    <tr style=\"text-align: right;\">\n",
       "      <th></th>\n",
       "      <th>Temperature</th>\n",
       "      <th>RH</th>\n",
       "      <th>Ws</th>\n",
       "      <th>Rain</th>\n",
       "      <th>FFMC</th>\n",
       "      <th>DMC</th>\n",
       "      <th>DC</th>\n",
       "      <th>ISI</th>\n",
       "      <th>BUI</th>\n",
       "      <th>Classes</th>\n",
       "      <th>Region</th>\n",
       "    </tr>\n",
       "  </thead>\n",
       "  <tbody>\n",
       "    <tr>\n",
       "      <th>0</th>\n",
       "      <td>29</td>\n",
       "      <td>57</td>\n",
       "      <td>18</td>\n",
       "      <td>0.0</td>\n",
       "      <td>65.7</td>\n",
       "      <td>3.4</td>\n",
       "      <td>7.6</td>\n",
       "      <td>1.3</td>\n",
       "      <td>3.4</td>\n",
       "      <td>0</td>\n",
       "      <td>0</td>\n",
       "    </tr>\n",
       "    <tr>\n",
       "      <th>1</th>\n",
       "      <td>29</td>\n",
       "      <td>61</td>\n",
       "      <td>13</td>\n",
       "      <td>1.3</td>\n",
       "      <td>64.4</td>\n",
       "      <td>4.1</td>\n",
       "      <td>7.6</td>\n",
       "      <td>1.0</td>\n",
       "      <td>3.9</td>\n",
       "      <td>0</td>\n",
       "      <td>0</td>\n",
       "    </tr>\n",
       "    <tr>\n",
       "      <th>2</th>\n",
       "      <td>26</td>\n",
       "      <td>82</td>\n",
       "      <td>22</td>\n",
       "      <td>13.1</td>\n",
       "      <td>47.1</td>\n",
       "      <td>2.5</td>\n",
       "      <td>7.1</td>\n",
       "      <td>0.3</td>\n",
       "      <td>2.7</td>\n",
       "      <td>0</td>\n",
       "      <td>0</td>\n",
       "    </tr>\n",
       "    <tr>\n",
       "      <th>3</th>\n",
       "      <td>25</td>\n",
       "      <td>89</td>\n",
       "      <td>13</td>\n",
       "      <td>2.5</td>\n",
       "      <td>28.6</td>\n",
       "      <td>1.3</td>\n",
       "      <td>6.9</td>\n",
       "      <td>0.0</td>\n",
       "      <td>1.7</td>\n",
       "      <td>0</td>\n",
       "      <td>0</td>\n",
       "    </tr>\n",
       "    <tr>\n",
       "      <th>4</th>\n",
       "      <td>27</td>\n",
       "      <td>77</td>\n",
       "      <td>16</td>\n",
       "      <td>0.0</td>\n",
       "      <td>64.8</td>\n",
       "      <td>3.0</td>\n",
       "      <td>14.2</td>\n",
       "      <td>1.2</td>\n",
       "      <td>3.9</td>\n",
       "      <td>0</td>\n",
       "      <td>0</td>\n",
       "    </tr>\n",
       "  </tbody>\n",
       "</table>\n",
       "</div>"
      ],
      "text/plain": [
       "   Temperature  RH  Ws  Rain  FFMC  DMC    DC  ISI  BUI  Classes  Region\n",
       "0           29  57  18   0.0  65.7  3.4   7.6  1.3  3.4        0       0\n",
       "1           29  61  13   1.3  64.4  4.1   7.6  1.0  3.9        0       0\n",
       "2           26  82  22  13.1  47.1  2.5   7.1  0.3  2.7        0       0\n",
       "3           25  89  13   2.5  28.6  1.3   6.9  0.0  1.7        0       0\n",
       "4           27  77  16   0.0  64.8  3.0  14.2  1.2  3.9        0       0"
      ]
     },
     "execution_count": 12,
     "metadata": {},
     "output_type": "execute_result"
    }
   ],
   "source": [
    "X.head()"
   ]
  },
  {
   "cell_type": "code",
   "execution_count": 13,
   "metadata": {},
   "outputs": [
    {
     "data": {
      "text/plain": [
       "0    0.5\n",
       "1    0.4\n",
       "2    0.1\n",
       "3    0.0\n",
       "4    0.5\n",
       "Name: FWI, dtype: float64"
      ]
     },
     "execution_count": 13,
     "metadata": {},
     "output_type": "execute_result"
    }
   ],
   "source": [
    "Y.head()"
   ]
  },
  {
   "cell_type": "code",
   "execution_count": 14,
   "metadata": {},
   "outputs": [],
   "source": [
    "from sklearn.model_selection import train_test_split\n",
    "X_train, X_test, Y_train, Y_test = train_test_split(X,Y,test_size = 0.23, random_state=42)"
   ]
  },
  {
   "cell_type": "code",
   "execution_count": 15,
   "metadata": {},
   "outputs": [
    {
     "data": {
      "text/html": [
       "<div>\n",
       "<style scoped>\n",
       "    .dataframe tbody tr th:only-of-type {\n",
       "        vertical-align: middle;\n",
       "    }\n",
       "\n",
       "    .dataframe tbody tr th {\n",
       "        vertical-align: top;\n",
       "    }\n",
       "\n",
       "    .dataframe thead th {\n",
       "        text-align: right;\n",
       "    }\n",
       "</style>\n",
       "<table border=\"1\" class=\"dataframe\">\n",
       "  <thead>\n",
       "    <tr style=\"text-align: right;\">\n",
       "      <th></th>\n",
       "      <th>Temperature</th>\n",
       "      <th>RH</th>\n",
       "      <th>Ws</th>\n",
       "      <th>Rain</th>\n",
       "      <th>FFMC</th>\n",
       "      <th>DMC</th>\n",
       "      <th>DC</th>\n",
       "      <th>ISI</th>\n",
       "      <th>BUI</th>\n",
       "      <th>Classes</th>\n",
       "      <th>Region</th>\n",
       "    </tr>\n",
       "  </thead>\n",
       "  <tbody>\n",
       "    <tr>\n",
       "      <th>Temperature</th>\n",
       "      <td>1.000000</td>\n",
       "      <td>-0.659483</td>\n",
       "      <td>-0.306572</td>\n",
       "      <td>-0.314737</td>\n",
       "      <td>0.694140</td>\n",
       "      <td>0.496883</td>\n",
       "      <td>0.387493</td>\n",
       "      <td>0.628191</td>\n",
       "      <td>0.471465</td>\n",
       "      <td>0.537194</td>\n",
       "      <td>0.260602</td>\n",
       "    </tr>\n",
       "    <tr>\n",
       "      <th>RH</th>\n",
       "      <td>-0.659483</td>\n",
       "      <td>1.000000</td>\n",
       "      <td>0.228985</td>\n",
       "      <td>0.239121</td>\n",
       "      <td>-0.651443</td>\n",
       "      <td>-0.416586</td>\n",
       "      <td>-0.236723</td>\n",
       "      <td>-0.715473</td>\n",
       "      <td>-0.363677</td>\n",
       "      <td>-0.453090</td>\n",
       "      <td>-0.397607</td>\n",
       "    </tr>\n",
       "    <tr>\n",
       "      <th>Ws</th>\n",
       "      <td>-0.306572</td>\n",
       "      <td>0.228985</td>\n",
       "      <td>1.000000</td>\n",
       "      <td>0.250321</td>\n",
       "      <td>-0.192252</td>\n",
       "      <td>-0.003038</td>\n",
       "      <td>0.093646</td>\n",
       "      <td>-0.026523</td>\n",
       "      <td>0.032284</td>\n",
       "      <td>-0.084103</td>\n",
       "      <td>-0.202205</td>\n",
       "    </tr>\n",
       "    <tr>\n",
       "      <th>Rain</th>\n",
       "      <td>-0.314737</td>\n",
       "      <td>0.239121</td>\n",
       "      <td>0.250321</td>\n",
       "      <td>1.000000</td>\n",
       "      <td>-0.546686</td>\n",
       "      <td>-0.290551</td>\n",
       "      <td>-0.302913</td>\n",
       "      <td>-0.348777</td>\n",
       "      <td>-0.301478</td>\n",
       "      <td>-0.376281</td>\n",
       "      <td>-0.060495</td>\n",
       "    </tr>\n",
       "    <tr>\n",
       "      <th>FFMC</th>\n",
       "      <td>0.694140</td>\n",
       "      <td>-0.651443</td>\n",
       "      <td>-0.192252</td>\n",
       "      <td>-0.546686</td>\n",
       "      <td>1.000000</td>\n",
       "      <td>0.618155</td>\n",
       "      <td>0.519789</td>\n",
       "      <td>0.750171</td>\n",
       "      <td>0.603542</td>\n",
       "      <td>0.781614</td>\n",
       "      <td>0.257461</td>\n",
       "    </tr>\n",
       "    <tr>\n",
       "      <th>DMC</th>\n",
       "      <td>0.496883</td>\n",
       "      <td>-0.416586</td>\n",
       "      <td>-0.003038</td>\n",
       "      <td>-0.290551</td>\n",
       "      <td>0.618155</td>\n",
       "      <td>1.000000</td>\n",
       "      <td>0.869093</td>\n",
       "      <td>0.687483</td>\n",
       "      <td>0.983205</td>\n",
       "      <td>0.611110</td>\n",
       "      <td>0.205861</td>\n",
       "    </tr>\n",
       "    <tr>\n",
       "      <th>DC</th>\n",
       "      <td>0.387493</td>\n",
       "      <td>-0.236723</td>\n",
       "      <td>0.093646</td>\n",
       "      <td>-0.302913</td>\n",
       "      <td>0.519789</td>\n",
       "      <td>0.869093</td>\n",
       "      <td>1.000000</td>\n",
       "      <td>0.515683</td>\n",
       "      <td>0.942660</td>\n",
       "      <td>0.536699</td>\n",
       "      <td>-0.067582</td>\n",
       "    </tr>\n",
       "    <tr>\n",
       "      <th>ISI</th>\n",
       "      <td>0.628191</td>\n",
       "      <td>-0.715473</td>\n",
       "      <td>-0.026523</td>\n",
       "      <td>-0.348777</td>\n",
       "      <td>0.750171</td>\n",
       "      <td>0.687483</td>\n",
       "      <td>0.515683</td>\n",
       "      <td>1.000000</td>\n",
       "      <td>0.645517</td>\n",
       "      <td>0.740540</td>\n",
       "      <td>0.293176</td>\n",
       "    </tr>\n",
       "    <tr>\n",
       "      <th>BUI</th>\n",
       "      <td>0.471465</td>\n",
       "      <td>-0.363677</td>\n",
       "      <td>0.032284</td>\n",
       "      <td>-0.301478</td>\n",
       "      <td>0.603542</td>\n",
       "      <td>0.983205</td>\n",
       "      <td>0.942660</td>\n",
       "      <td>0.645517</td>\n",
       "      <td>1.000000</td>\n",
       "      <td>0.605102</td>\n",
       "      <td>0.107739</td>\n",
       "    </tr>\n",
       "    <tr>\n",
       "      <th>Classes</th>\n",
       "      <td>0.537194</td>\n",
       "      <td>-0.453090</td>\n",
       "      <td>-0.084103</td>\n",
       "      <td>-0.376281</td>\n",
       "      <td>0.781614</td>\n",
       "      <td>0.611110</td>\n",
       "      <td>0.536699</td>\n",
       "      <td>0.740540</td>\n",
       "      <td>0.605102</td>\n",
       "      <td>1.000000</td>\n",
       "      <td>0.197333</td>\n",
       "    </tr>\n",
       "    <tr>\n",
       "      <th>Region</th>\n",
       "      <td>0.260602</td>\n",
       "      <td>-0.397607</td>\n",
       "      <td>-0.202205</td>\n",
       "      <td>-0.060495</td>\n",
       "      <td>0.257461</td>\n",
       "      <td>0.205861</td>\n",
       "      <td>-0.067582</td>\n",
       "      <td>0.293176</td>\n",
       "      <td>0.107739</td>\n",
       "      <td>0.197333</td>\n",
       "      <td>1.000000</td>\n",
       "    </tr>\n",
       "  </tbody>\n",
       "</table>\n",
       "</div>"
      ],
      "text/plain": [
       "             Temperature        RH        Ws      Rain      FFMC       DMC  \\\n",
       "Temperature     1.000000 -0.659483 -0.306572 -0.314737  0.694140  0.496883   \n",
       "RH             -0.659483  1.000000  0.228985  0.239121 -0.651443 -0.416586   \n",
       "Ws             -0.306572  0.228985  1.000000  0.250321 -0.192252 -0.003038   \n",
       "Rain           -0.314737  0.239121  0.250321  1.000000 -0.546686 -0.290551   \n",
       "FFMC            0.694140 -0.651443 -0.192252 -0.546686  1.000000  0.618155   \n",
       "DMC             0.496883 -0.416586 -0.003038 -0.290551  0.618155  1.000000   \n",
       "DC              0.387493 -0.236723  0.093646 -0.302913  0.519789  0.869093   \n",
       "ISI             0.628191 -0.715473 -0.026523 -0.348777  0.750171  0.687483   \n",
       "BUI             0.471465 -0.363677  0.032284 -0.301478  0.603542  0.983205   \n",
       "Classes         0.537194 -0.453090 -0.084103 -0.376281  0.781614  0.611110   \n",
       "Region          0.260602 -0.397607 -0.202205 -0.060495  0.257461  0.205861   \n",
       "\n",
       "                   DC       ISI       BUI   Classes    Region  \n",
       "Temperature  0.387493  0.628191  0.471465  0.537194  0.260602  \n",
       "RH          -0.236723 -0.715473 -0.363677 -0.453090 -0.397607  \n",
       "Ws           0.093646 -0.026523  0.032284 -0.084103 -0.202205  \n",
       "Rain        -0.302913 -0.348777 -0.301478 -0.376281 -0.060495  \n",
       "FFMC         0.519789  0.750171  0.603542  0.781614  0.257461  \n",
       "DMC          0.869093  0.687483  0.983205  0.611110  0.205861  \n",
       "DC           1.000000  0.515683  0.942660  0.536699 -0.067582  \n",
       "ISI          0.515683  1.000000  0.645517  0.740540  0.293176  \n",
       "BUI          0.942660  0.645517  1.000000  0.605102  0.107739  \n",
       "Classes      0.536699  0.740540  0.605102  1.000000  0.197333  \n",
       "Region      -0.067582  0.293176  0.107739  0.197333  1.000000  "
      ]
     },
     "execution_count": 15,
     "metadata": {},
     "output_type": "execute_result"
    }
   ],
   "source": [
    "# Feature selection based on correlation\n",
    "X_train.corr()"
   ]
  },
  {
   "cell_type": "code",
   "execution_count": 16,
   "metadata": {},
   "outputs": [
    {
     "data": {
      "text/plain": [
       "<Axes: >"
      ]
     },
     "execution_count": 16,
     "metadata": {},
     "output_type": "execute_result"
    },
    {
     "data": {
      "image/png": "[encoded data removed]",
      "text/plain": [
       "<Figure size 1200x1000 with 2 Axes>"
      ]
     },
     "metadata": {},
     "output_type": "display_data"
    }
   ],
   "source": [
    "# Check for multicollinearity\n",
    "plt.figure(figsize=(12,10))\n",
    "corr = X_train.corr()\n",
    "sns.heatmap(corr, annot = True)"
   ]
  },
  {
   "cell_type": "markdown",
   "metadata": {},
   "source": [
    "### Writing a **function** to delete all the column which have a **correlation** on `greater than a threshold` since we can use the **other variable to do the same job**"
   ]
  },
  {
   "cell_type": "code",
   "execution_count": 17,
   "metadata": {},
   "outputs": [],
   "source": [
    "def correlation(dataset, threshold):\n",
    "    col_corr = set()\n",
    "    corr_matrix = dataset.corr()\n",
    "    for i in range(len(corr_matrix.columns)):\n",
    "        for j in range(i):\n",
    "            if abs(corr_matrix.iloc[i,j]) > threshold:\n",
    "                colname = corr_matrix.columns[i]\n",
    "                col_corr.add(colname)\n",
    "    return col_corr"
   ]
  },
  {
   "cell_type": "code",
   "execution_count": 18,
   "metadata": {},
   "outputs": [
    {
     "name": "stdout",
     "output_type": "stream",
     "text": [
      "{'BUI', 'DC'}\n"
     ]
    }
   ],
   "source": [
    "corr_features = correlation(X_train,0.85)\n",
    "print(corr_features)"
   ]
  },
  {
   "cell_type": "code",
   "execution_count": 19,
   "metadata": {},
   "outputs": [],
   "source": [
    "X_train.drop(corr_features, axis = 1, inplace = True)\n",
    "X_test.drop(corr_features, axis = 1, inplace = True)"
   ]
  },
  {
   "cell_type": "code",
   "execution_count": 20,
   "metadata": {},
   "outputs": [
    {
     "data": {
      "text/html": [
       "<div>\n",
       "<style scoped>\n",
       "    .dataframe tbody tr th:only-of-type {\n",
       "        vertical-align: middle;\n",
       "    }\n",
       "\n",
       "    .dataframe tbody tr th {\n",
       "        vertical-align: top;\n",
       "    }\n",
       "\n",
       "    .dataframe thead th {\n",
       "        text-align: right;\n",
       "    }\n",
       "</style>\n",
       "<table border=\"1\" class=\"dataframe\">\n",
       "  <thead>\n",
       "    <tr style=\"text-align: right;\">\n",
       "      <th></th>\n",
       "      <th>Temperature</th>\n",
       "      <th>RH</th>\n",
       "      <th>Ws</th>\n",
       "      <th>Rain</th>\n",
       "      <th>FFMC</th>\n",
       "      <th>DMC</th>\n",
       "      <th>ISI</th>\n",
       "      <th>Classes</th>\n",
       "      <th>Region</th>\n",
       "    </tr>\n",
       "  </thead>\n",
       "  <tbody>\n",
       "    <tr>\n",
       "      <th>162</th>\n",
       "      <td>34</td>\n",
       "      <td>56</td>\n",
       "      <td>15</td>\n",
       "      <td>2.9</td>\n",
       "      <td>74.8</td>\n",
       "      <td>7.1</td>\n",
       "      <td>1.6</td>\n",
       "      <td>0</td>\n",
       "      <td>1</td>\n",
       "    </tr>\n",
       "    <tr>\n",
       "      <th>178</th>\n",
       "      <td>33</td>\n",
       "      <td>57</td>\n",
       "      <td>16</td>\n",
       "      <td>0.0</td>\n",
       "      <td>87.5</td>\n",
       "      <td>15.7</td>\n",
       "      <td>6.7</td>\n",
       "      <td>1</td>\n",
       "      <td>1</td>\n",
       "    </tr>\n",
       "    <tr>\n",
       "      <th>224</th>\n",
       "      <td>31</td>\n",
       "      <td>72</td>\n",
       "      <td>14</td>\n",
       "      <td>0.0</td>\n",
       "      <td>84.2</td>\n",
       "      <td>8.3</td>\n",
       "      <td>3.8</td>\n",
       "      <td>1</td>\n",
       "      <td>1</td>\n",
       "    </tr>\n",
       "    <tr>\n",
       "      <th>230</th>\n",
       "      <td>36</td>\n",
       "      <td>33</td>\n",
       "      <td>13</td>\n",
       "      <td>0.1</td>\n",
       "      <td>90.6</td>\n",
       "      <td>25.8</td>\n",
       "      <td>9.0</td>\n",
       "      <td>1</td>\n",
       "      <td>1</td>\n",
       "    </tr>\n",
       "    <tr>\n",
       "      <th>154</th>\n",
       "      <td>34</td>\n",
       "      <td>56</td>\n",
       "      <td>17</td>\n",
       "      <td>0.1</td>\n",
       "      <td>84.7</td>\n",
       "      <td>9.7</td>\n",
       "      <td>4.7</td>\n",
       "      <td>1</td>\n",
       "      <td>1</td>\n",
       "    </tr>\n",
       "  </tbody>\n",
       "</table>\n",
       "</div>"
      ],
      "text/plain": [
       "     Temperature  RH  Ws  Rain  FFMC   DMC  ISI  Classes  Region\n",
       "162           34  56  15   2.9  74.8   7.1  1.6        0       1\n",
       "178           33  57  16   0.0  87.5  15.7  6.7        1       1\n",
       "224           31  72  14   0.0  84.2   8.3  3.8        1       1\n",
       "230           36  33  13   0.1  90.6  25.8  9.0        1       1\n",
       "154           34  56  17   0.1  84.7   9.7  4.7        1       1"
      ]
     },
     "execution_count": 20,
     "metadata": {},
     "output_type": "execute_result"
    }
   ],
   "source": [
    "X_train.head()"
   ]
  },
  {
   "cell_type": "markdown",
   "metadata": {},
   "source": [
    "### `Feature Scaling` and `Standardization`"
   ]
  },
  {
   "cell_type": "code",
   "execution_count": 21,
   "metadata": {},
   "outputs": [],
   "source": [
    "from sklearn.preprocessing import StandardScaler\n",
    "scaler = StandardScaler()\n",
    "X_train_scaled = scaler.fit_transform(X_train)\n",
    "X_test_scaled = scaler.transform(X_test)"
   ]
  },
  {
   "cell_type": "code",
   "execution_count": 22,
   "metadata": {},
   "outputs": [
    {
     "data": {
      "text/plain": [
       "Text(0.5, 1.0, 'X_train After Scaling')"
      ]
     },
     "execution_count": 22,
     "metadata": {},
     "output_type": "execute_result"
    },
    {
     "data": {
      "image/png": "[encoded data removed]",
      "text/plain": [
       "<Figure size 1500x500 with 3 Axes>"
      ]
     },
     "metadata": {},
     "output_type": "display_data"
    }
   ],
   "source": [
    "plt.subplots(figsize=(15, 5))\n",
    "plt.subplot(1, 2, 1)\n",
    "sns.boxplot(data=X_train)\n",
    "plt.title('X_train Before Scaling')\n",
    "plt.subplot(1, 2, 2)\n",
    "sns.boxplot(data=X_train_scaled)\n",
    "plt.title('X_train After Scaling')"
   ]
  },
  {
   "cell_type": "markdown",
   "metadata": {},
   "source": [
    "## `Linear Regression Model`"
   ]
  },
  {
   "cell_type": "code",
   "execution_count": 23,
   "metadata": {},
   "outputs": [
    {
     "name": "stdout",
     "output_type": "stream",
     "text": [
      "Mean Squared Error: 0.7275050957513086\n",
      "Root Mean Squared Error: 0.8529390926386882\n",
      "Mean Absolute Error: 0.5759699915797649\n",
      "Score: 0.9841721098920352\n"
     ]
    }
   ],
   "source": [
    "from sklearn.linear_model import LinearRegression\n",
    "from sklearn.metrics import mean_absolute_error, mean_squared_error\n",
    "from sklearn.metrics import r2_score\n",
    "\n",
    "regression = LinearRegression()\n",
    "regression.fit(X_train_scaled,Y_train)\n",
    "Y_pred = regression.predict(X_test_scaled)\n",
    "\n",
    "mse = mean_squared_error(Y_test, Y_pred)\n",
    "mae = mean_absolute_error(Y_test, Y_pred)\n",
    "rmse = np.sqrt(mean_squared_error(Y_test, Y_pred))\n",
    "score = r2_score(Y_test, Y_pred)\n",
    "\n",
    "print(f\"Mean Squared Error: {mse}\")\n",
    "print(f\"Root Mean Squared Error: {rmse}\")\n",
    "print(f\"Mean Absolute Error: {mae}\")\n",
    "print(f\"Score: {score}\")"
   ]
  },
  {
   "cell_type": "code",
   "execution_count": 24,
   "metadata": {},
   "outputs": [
    {
     "data": {
      "image/png": "[encoded data removed]",
      "text/plain": [
       "<Figure size 640x480 with 1 Axes>"
      ]
     },
     "metadata": {},
     "output_type": "display_data"
    }
   ],
   "source": [
    "plt.scatter(Y_test, Y_pred);"
   ]
  },
  {
   "cell_type": "markdown",
   "metadata": {},
   "source": [
    "## `Lasso Regression`"
   ]
  },
  {
   "cell_type": "code",
   "execution_count": 26,
   "metadata": {},
   "outputs": [
    {
     "name": "stdout",
     "output_type": "stream",
     "text": [
      "Mean Squared Error: 2.334169349890997\n",
      "Root Mean Squared Error: 1.527798857798695\n",
      "Mean Absolute Error: 1.1464136719261415\n",
      "Score: 0.9492168835940586\n"
     ]
    }
   ],
   "source": [
    "from sklearn.linear_model import Lasso\n",
    "from sklearn.metrics import mean_absolute_error, mean_squared_error\n",
    "from sklearn.metrics import r2_score\n",
    "\n",
    "lasso = Lasso()\n",
    "lasso.fit(X_train_scaled,Y_train)\n",
    "Y_pred = lasso.predict(X_test_scaled)\n",
    "\n",
    "mse = mean_squared_error(Y_test, Y_pred)\n",
    "mae = mean_absolute_error(Y_test, Y_pred)\n",
    "rmse = np.sqrt(mean_squared_error(Y_test, Y_pred))\n",
    "score = r2_score(Y_test, Y_pred)\n",
    "\n",
    "print(f\"Mean Squared Error: {mse}\")\n",
    "print(f\"Root Mean Squared Error: {rmse}\")\n",
    "print(f\"Mean Absolute Error: {mae}\")\n",
    "print(f\"Score: {score}\")"
   ]
  },
  {
   "cell_type": "code",
   "execution_count": 28,
   "metadata": {},
   "outputs": [
    {
     "data": {
      "image/png": "[encoded data removed]",
      "text/plain": [
       "<Figure size 640x480 with 1 Axes>"
      ]
     },
     "metadata": {},
     "output_type": "display_data"
    }
   ],
   "source": [
    "plt.scatter(Y_test, Y_pred);"
   ]
  },
  {
   "cell_type": "markdown",
   "metadata": {},
   "source": [
    "### `Cross Validation Lasso` -> Used For `Hyperparameter Tuning`"
   ]
  },
  {
   "cell_type": "code",
   "execution_count": 35,
   "metadata": {},
   "outputs": [
    {
     "name": "stdout",
     "output_type": "stream",
     "text": [
      "[ 8.17695026  7.68506384 -0.25424098  4.73398518  6.79618765  1.78171148\n",
      "  2.2383429   7.65003278  1.98967557  3.39851501  0.62549914  9.96909528\n",
      "  9.37172436 16.99767168 18.29031088  1.62233266  1.63049923 -0.65198145\n",
      "  7.28687335  3.11685706  1.95431263  0.17522522  6.47703164  0.13766156\n",
      " 21.00918084  5.12594531  5.86324373  9.76184075 -0.78198996  9.928179\n",
      "  6.72398449 -0.31470658 10.31373689 14.44094333  1.70903893  0.83994585\n",
      "  2.03333267  5.9835752  -0.62704329 -0.56302444  6.47360211  2.0791102\n",
      "  8.46989719 -0.85669556 15.41644224  8.33153906  8.49732874  1.43669177\n",
      " 13.03872401  1.20563742 29.1032319   5.50591528 17.17104307 19.29496799\n",
      " 13.71456346 16.05895554]\n"
     ]
    }
   ],
   "source": [
    "from sklearn.linear_model import LassoCV\n",
    "lassoCV = LassoCV(cv = 5)\n",
    "lassoCV.fit(X_train_scaled,Y_train)\n",
    "Y_pred_lassoCV = lassoCV.predict(X_test_scaled)\n",
    "print(Y_pred_lassoCV)"
   ]
  },
  {
   "cell_type": "code",
   "execution_count": 38,
   "metadata": {},
   "outputs": [
    {
     "data": {
      "text/plain": [
       "array([7.00791252, 6.53560267, 6.09512492, 5.6843339 , 5.30122882,\n",
       "       4.94394374, 4.61073848, 4.29999014, 4.01018519, 3.73991213,\n",
       "       3.48785457, 3.25278485, 3.03355804, 2.82910638, 2.63843408,\n",
       "       2.46061245, 2.29477541, 2.14011522, 1.99587862, 1.86136308,\n",
       "       1.73591344, 1.61891868, 1.50980898, 1.40805291, 1.31315486,\n",
       "       1.22465261, 1.14211513, 1.06514039, 0.99335349, 0.92640479,\n",
       "       0.86396821, 0.80573964, 0.75143549, 0.70079125, 0.65356027,\n",
       "       0.60951249, 0.56843339, 0.53012288, 0.49439437, 0.46107385,\n",
       "       0.42999901, 0.40101852, 0.37399121, 0.34878546, 0.32527848,\n",
       "       0.3033558 , 0.28291064, 0.26384341, 0.24606125, 0.22947754,\n",
       "       0.21401152, 0.19958786, 0.18613631, 0.17359134, 0.16189187,\n",
       "       0.1509809 , 0.14080529, 0.13131549, 0.12246526, 0.11421151,\n",
       "       0.10651404, 0.09933535, 0.09264048, 0.08639682, 0.08057396,\n",
       "       0.07514355, 0.07007913, 0.06535603, 0.06095125, 0.05684334,\n",
       "       0.05301229, 0.04943944, 0.04610738, 0.0429999 , 0.04010185,\n",
       "       0.03739912, 0.03487855, 0.03252785, 0.03033558, 0.02829106,\n",
       "       0.02638434, 0.02460612, 0.02294775, 0.02140115, 0.01995879,\n",
       "       0.01861363, 0.01735913, 0.01618919, 0.01509809, 0.01408053,\n",
       "       0.01313155, 0.01224653, 0.01142115, 0.0106514 , 0.00993353,\n",
       "       0.00926405, 0.00863968, 0.0080574 , 0.00751435, 0.00700791])"
      ]
     },
     "execution_count": 38,
     "metadata": {},
     "output_type": "execute_result"
    }
   ],
   "source": [
    "lassoCV.alphas_ # The alphas that the model tried = 100 (almost)"
   ]
  },
  {
   "cell_type": "code",
   "execution_count": 39,
   "metadata": {},
   "outputs": [
    {
     "data": {
      "text/plain": [
       "np.float64(0.056843339022754326)"
      ]
     },
     "execution_count": 39,
     "metadata": {},
     "output_type": "execute_result"
    }
   ],
   "source": [
    "lassoCV.alpha_ # The alpha which was finally used"
   ]
  },
  {
   "cell_type": "code",
   "execution_count": 40,
   "metadata": {},
   "outputs": [
    {
     "data": {
      "text/plain": [
       "array([[46.54543025, 66.76985292, 56.80000189, 75.52834495, 38.6699823 ],\n",
       "       [41.3380455 , 62.91878807, 52.18002353, 73.32588387, 34.71696436],\n",
       "       [36.28332782, 56.22376489, 44.96300624, 66.09048398, 31.26732122],\n",
       "       [31.87307357, 49.61023805, 38.77555136, 59.73548826, 28.25626352],\n",
       "       [28.02411991, 43.82577366, 33.47757616, 54.15040272, 24.74175742],\n",
       "       [24.6644782 , 38.76441434, 28.94749147, 48.66489586, 21.40584412],\n",
       "       [21.73111157, 34.3338362 , 25.08016719, 42.86143672, 18.52094521],\n",
       "       [19.16926027, 30.45415264, 21.78431734, 37.79684401, 16.02814852],\n",
       "       [16.93124567, 27.05520234, 18.9807982 , 33.37695649, 13.8748787 ],\n",
       "       [14.9754122 , 24.07602717, 16.60149562, 29.51830059, 12.01591169],\n",
       "       [13.26590193, 21.46349716, 14.58705596, 26.14874971, 10.41198168],\n",
       "       [11.77107002, 19.17111538, 12.88625151, 23.20550653,  9.0290001 ],\n",
       "       [10.46349262, 17.1588957 , 11.45477674, 20.63389189,  7.83705355],\n",
       "       [ 9.31928168, 15.39141519, 10.25408588, 18.38585026,  6.81115824],\n",
       "       [ 8.31762673, 13.83796578,  9.25158185, 16.42086197,  5.92864871],\n",
       "       [ 7.44039635, 12.47176054,  8.41842722, 14.70229951,  5.17019038],\n",
       "       [ 6.67166824, 11.26942802,  7.72995068, 13.1987064 ,  4.51901192],\n",
       "       [ 5.99793462, 10.21057237,  7.16487077, 11.88268082,  3.96056782],\n",
       "       [ 5.4070549 ,  9.27726458,  6.70484222, 10.73034974,  3.48224572],\n",
       "       [ 4.88856738,  8.45423217,  6.33406241,  9.72091205,  3.07311198],\n",
       "       [ 4.43335093,  7.72775191,  6.03857632,  8.83624091,  2.72354498],\n",
       "       [ 4.03345171,  7.08596524,  5.8074134 ,  8.06029691,  2.42565403],\n",
       "       [ 3.68193252,  6.51851006,  5.63015244,  7.3798294 ,  2.17214929],\n",
       "       [ 3.37274165,  6.01632883,  5.49816829,  6.78254795,  1.95687251],\n",
       "       [ 3.10050009,  5.57150171,  5.40406818,  6.25798383,  1.77449339],\n",
       "       [ 2.8608083 ,  5.17710119,  5.34152304,  5.79700784,  1.62039961],\n",
       "       [ 2.64953263,  4.82706547,  5.30512215,  5.39165682,  1.49060163],\n",
       "       [ 2.46316052,  4.51604282,  5.29024722,  5.0349833 ,  1.38165016],\n",
       "       [ 2.29862451,  4.23948701,  5.29296324,  4.72092464,  1.29054637],\n",
       "       [ 2.15324481,  3.99326977,  5.30949485,  4.44409168,  1.21476536],\n",
       "       [ 2.0246796 ,  3.77382232,  5.33788516,  4.20008108,  1.15205026],\n",
       "       [ 1.91088176,  3.57801509,  5.37527883,  3.98473654,  1.10048375],\n",
       "       [ 1.81006114,  3.40310206,  5.41964509,  3.79453375,  1.05841288],\n",
       "       [ 1.72065181,  3.24667242,  5.46927755,  3.62639391,  1.02441354],\n",
       "       [ 1.64121731,  3.10660846,  5.52274588,  3.477626  ,  0.99725972],\n",
       "       [ 1.5706968 ,  2.98104874,  5.57885624,  3.34587724,  0.97589688],\n",
       "       [ 1.50796654,  2.86835609,  5.63661706,  3.22908977,  0.95941883],\n",
       "       [ 1.45210541,  2.76710247,  5.69520958,  3.1254631 ,  0.94712913],\n",
       "       [ 1.40230641,  2.67599618,  5.75346093,  3.03340969,  0.93820082],\n",
       "       [ 1.35786175,  2.59392755,  5.81185439,  2.96181102,  0.93213866],\n",
       "       [ 1.31815032,  2.51991019,  5.8694268 ,  2.89878284,  0.92845557],\n",
       "       [ 1.28262676,  2.45307324,  5.92582283,  2.8429182 ,  0.92673456],\n",
       "       [ 1.25081196,  2.39264725,  5.98076953,  2.79302472,  0.92662017],\n",
       "       [ 1.22228474,  2.33795185,  6.03405829,  2.74903934,  0.92780996],\n",
       "       [ 1.19667459,  2.28838485,  6.08491333,  2.70994176,  0.93004716],\n",
       "       [ 1.17361079,  2.24163567,  6.12359562,  2.67515169,  0.93311431],\n",
       "       [ 1.14312981,  2.18788174,  6.16204151,  2.64373807,  0.93682774],\n",
       "       [ 1.10984217,  2.13995885,  6.20000844,  2.61612177,  0.93649071],\n",
       "       [ 1.0805781 ,  2.09718653,  6.23675184,  2.59147642,  0.92020204],\n",
       "       [ 1.05493443,  2.05896745,  6.2731133 ,  2.56944873,  0.90661011],\n",
       "       [ 1.03241579,  2.02482794,  6.30841958,  2.549738  ,  0.89762864],\n",
       "       [ 1.01262936,  1.99420427,  6.34255523,  2.53162878,  0.8939597 ],\n",
       "       [ 0.9952328 ,  1.96674295,  6.37544162,  2.48750712,  0.8915097 ],\n",
       "       [ 0.97992745,  1.94208819,  6.43062838,  2.44279148,  0.8901878 ],\n",
       "       [ 0.96645271,  1.91992636,  6.48985181,  2.40207096,  0.88979427],\n",
       "       [ 0.95458112,  1.89998118,  6.54881456,  2.36496943,  0.89015727],\n",
       "       [ 0.9441141 ,  1.88200906,  6.60694697,  2.33140958,  0.89113072],\n",
       "       [ 0.93487826,  1.86579513,  6.66389611,  2.30092602,  0.89259078],\n",
       "       [ 0.92672215,  1.83919369,  6.71938553,  2.27399865,  0.89443484],\n",
       "       [ 0.91948007,  1.80935589,  6.77320381,  2.23502954,  0.88327989],\n",
       "       [ 0.90018382,  1.77928076,  6.82519292,  2.19684646,  0.86147816],\n",
       "       [ 0.8725419 ,  1.7505846 ,  6.87524127,  2.16308572,  0.84306773],\n",
       "       [ 0.84161171,  1.72490094,  6.92248998,  2.13264818,  0.8272469 ],\n",
       "       [ 0.81292134,  1.70149733,  6.96852284,  2.10598087,  0.81381762],\n",
       "       [ 0.7874478 ,  1.68071162,  7.01248119,  2.08222345,  0.8023839 ],\n",
       "       [ 0.76470227,  1.6619638 ,  7.06017483,  2.06103761,  0.79266499],\n",
       "       [ 0.74453112,  1.64503701,  7.10906988,  2.04212363,  0.78442247],\n",
       "       [ 0.72654916,  1.6297359 ,  7.15567697,  2.02521847,  0.77744985],\n",
       "       [ 0.71050101,  1.61588774,  7.19983255,  2.00978932,  0.77157529],\n",
       "       [ 0.69616235,  1.60333967,  7.24264039,  1.99625869,  0.7667866 ],\n",
       "       [ 0.68457384,  1.59175063,  7.28184932,  1.98412456,  0.76538403],\n",
       "       [ 0.67462813,  1.58142683,  7.31899709,  1.97304898,  0.76418656],\n",
       "       [ 0.6657799 ,  1.57203991,  7.35339728,  1.9629722 ,  0.76370887],\n",
       "       [ 0.65806068,  1.56300424,  7.3865016 ,  1.95396415,  0.76363602],\n",
       "       [ 0.65124919,  1.55465579,  7.41764971,  1.94571729,  0.76367723],\n",
       "       [ 0.64514521,  1.54714757,  7.44695903,  1.93851237,  0.76420544],\n",
       "       [ 0.6398355 ,  1.54025684,  7.47393507,  1.93205488,  0.76494604],\n",
       "       [ 0.63504281,  1.53416511,  7.49409246,  1.92607333,  0.76564717],\n",
       "       [ 0.6308899 ,  1.52892056,  7.51174289,  1.92087238,  0.76667956],\n",
       "       [ 0.62721107,  1.52608973,  7.52833912,  1.91601178,  0.76781068],\n",
       "       [ 0.62385419,  1.52377501,  7.54395983,  1.91180365,  0.76882072],\n",
       "       [ 0.6208602 ,  1.52166744,  7.5589837 ,  1.90809742,  0.77005511],\n",
       "       [ 0.61818894,  1.52002807,  7.57296184,  1.90471257,  0.77115308],\n",
       "       [ 0.61589872,  1.51873763,  7.58637912,  1.90172183,  0.77225653],\n",
       "       [ 0.61387653,  1.51790217,  7.5986484 ,  1.89904431,  0.77337128],\n",
       "       [ 0.61211146,  1.51711755,  7.61016432,  1.89652871,  0.77538616],\n",
       "       [ 0.61057243,  1.51667252,  7.6212652 ,  1.89432698,  0.77807561],\n",
       "       [ 0.60913491,  1.51621107,  7.63158008,  1.89305713,  0.7809137 ],\n",
       "       [ 0.60788633,  1.51603535,  7.6410807 ,  1.89234036,  0.78377649],\n",
       "       [ 0.60685154,  1.51579972,  7.64997823,  1.89168385,  0.78636828],\n",
       "       [ 0.60577505,  1.51580223,  7.65842109,  1.89116717,  0.78899918],\n",
       "       [ 0.60485364,  1.51590544,  7.66645887,  1.89074609,  0.79134674],\n",
       "       [ 0.60433755,  1.51606244,  7.67378896,  1.89039332,  0.79370389],\n",
       "       [ 0.60385308,  1.51609543,  7.68014871,  1.89007614,  0.79599381],\n",
       "       [ 0.60342353,  1.51628536,  7.68612851,  1.88984265,  0.79816345],\n",
       "       [ 0.60307037,  1.5165425 ,  7.69237545,  1.8896628 ,  0.8000578 ],\n",
       "       [ 0.60276873,  1.51677862,  7.69807052,  1.88948995,  0.80208356],\n",
       "       [ 0.60250443,  1.51687002,  7.70332819,  1.88937021,  0.80382404],\n",
       "       [ 0.60225413,  1.51701766,  7.70782976,  1.88929335,  0.80548945],\n",
       "       [ 0.6020545 ,  1.51723099,  7.71264736,  1.88924212,  0.80710793]])"
      ]
     },
     "execution_count": 40,
     "metadata": {},
     "output_type": "execute_result"
    }
   ],
   "source": [
    "lassoCV.mse_path_ # 5 folds * 100 alphas each = 500 mses (almost)"
   ]
  },
  {
   "cell_type": "code",
   "execution_count": 41,
   "metadata": {},
   "outputs": [
    {
     "name": "stdout",
     "output_type": "stream",
     "text": [
      "Mean Squared Error: 0.8476887180782722\n",
      "Root Mean Squared Error: 0.920700123861332\n",
      "Mean Absolute Error: 0.6528798577089784\n",
      "Score: 0.9815573472215362\n"
     ]
    },
    {
     "data": {
      "image/png": "[encoded data removed]",
      "text/plain": [
       "<Figure size 640x480 with 1 Axes>"
      ]
     },
     "metadata": {},
     "output_type": "display_data"
    }
   ],
   "source": [
    "plt.scatter(Y_pred_lassoCV,Y_test)\n",
    "mse = mean_squared_error(Y_test, Y_pred_lassoCV)\n",
    "mae = mean_absolute_error(Y_test, Y_pred_lassoCV)\n",
    "rmse = np.sqrt(mean_squared_error(Y_test, Y_pred_lassoCV))\n",
    "score = r2_score(Y_test, Y_pred_lassoCV)\n",
    "\n",
    "print(f\"Mean Squared Error: {mse}\")\n",
    "print(f\"Root Mean Squared Error: {rmse}\")\n",
    "print(f\"Mean Absolute Error: {mae}\")\n",
    "print(f\"Score: {score}\")"
   ]
  },
  {
   "cell_type": "markdown",
   "metadata": {},
   "source": [
    "## `Ridge Regression`"
   ]
  },
  {
   "cell_type": "code",
   "execution_count": 27,
   "metadata": {},
   "outputs": [
    {
     "name": "stdout",
     "output_type": "stream",
     "text": [
      "Mean Squared Error: 0.750544650374967\n",
      "Root Mean Squared Error: 0.8663398007565893\n",
      "Mean Absolute Error: 0.5962439517488163\n",
      "Score: 0.9836708521814715\n"
     ]
    }
   ],
   "source": [
    "from sklearn.linear_model import Ridge\n",
    "from sklearn.metrics import mean_absolute_error, mean_squared_error\n",
    "from sklearn.metrics import r2_score\n",
    "\n",
    "ridge = Ridge()\n",
    "ridge.fit(X_train_scaled,Y_train)\n",
    "Y_pred = ridge.predict(X_test_scaled)\n",
    "\n",
    "mse = mean_squared_error(Y_test, Y_pred)\n",
    "mae = mean_absolute_error(Y_test, Y_pred)\n",
    "rmse = np.sqrt(mean_squared_error(Y_test, Y_pred))\n",
    "score = r2_score(Y_test, Y_pred)\n",
    "\n",
    "print(f\"Mean Squared Error: {mse}\")\n",
    "print(f\"Root Mean Squared Error: {rmse}\")\n",
    "print(f\"Mean Absolute Error: {mae}\")\n",
    "print(f\"Score: {score}\")"
   ]
  },
  {
   "cell_type": "code",
   "execution_count": 29,
   "metadata": {},
   "outputs": [
    {
     "data": {
      "image/png": "[encoded data removed]",
      "text/plain": [
       "<Figure size 640x480 with 1 Axes>"
      ]
     },
     "metadata": {},
     "output_type": "display_data"
    }
   ],
   "source": [
    "plt.scatter(Y_test, Y_pred);"
   ]
  },
  {
   "cell_type": "code",
   "execution_count": 43,
   "metadata": {},
   "outputs": [
    {
     "name": "stdout",
     "output_type": "stream",
     "text": [
      "Mean absolute error 0.5962439517488163\n",
      "R2 Score 0.9836708521814715\n"
     ]
    },
    {
     "data": {
      "image/png": "[encoded data removed]",
      "text/plain": [
       "<Figure size 640x480 with 1 Axes>"
      ]
     },
     "metadata": {},
     "output_type": "display_data"
    }
   ],
   "source": [
    "from sklearn.linear_model import RidgeCV\n",
    "ridgecv=RidgeCV(cv=5)\n",
    "ridgecv.fit(X_train_scaled,Y_train)\n",
    "y_pred=ridgecv.predict(X_test_scaled)\n",
    "plt.scatter(Y_test,y_pred)\n",
    "mae=mean_absolute_error(Y_test,y_pred)\n",
    "score=r2_score(Y_test,y_pred)\n",
    "print(\"Mean absolute error\", mae)\n",
    "print(\"R2 Score\", score)"
   ]
  },
  {
   "cell_type": "code",
   "execution_count": 44,
   "metadata": {},
   "outputs": [
    {
     "data": {
      "text/plain": [
       "{'alpha_per_target': False,\n",
       " 'alphas': (0.1, 1.0, 10.0),\n",
       " 'cv': 5,\n",
       " 'fit_intercept': True,\n",
       " 'gcv_mode': None,\n",
       " 'scoring': None,\n",
       " 'store_cv_results': None,\n",
       " 'store_cv_values': 'deprecated'}"
      ]
     },
     "execution_count": 44,
     "metadata": {},
     "output_type": "execute_result"
    }
   ],
   "source": [
    "ridgecv.get_params()"
   ]
  },
  {
   "cell_type": "markdown",
   "metadata": {},
   "source": [
    "## `ElasticNet Regression`"
   ]
  },
  {
   "cell_type": "code",
   "execution_count": 31,
   "metadata": {},
   "outputs": [
    {
     "name": "stdout",
     "output_type": "stream",
     "text": [
      "Mean Squared Error: 5.634156214358646\n",
      "Root Mean Squared Error: 2.3736377597179072\n",
      "Mean Absolute Error: 1.8731479970853953\n",
      "Score: 0.8774210573468482\n"
     ]
    }
   ],
   "source": [
    "from sklearn.linear_model import ElasticNet\n",
    "from sklearn.metrics import mean_absolute_error, mean_squared_error\n",
    "from sklearn.metrics import r2_score\n",
    "\n",
    "elasticNet = ElasticNet()\n",
    "elasticNet.fit(X_train_scaled,Y_train)\n",
    "Y_pred = elasticNet.predict(X_test_scaled)\n",
    "\n",
    "mse = mean_squared_error(Y_test, Y_pred)\n",
    "mae = mean_absolute_error(Y_test, Y_pred)\n",
    "rmse = np.sqrt(mean_squared_error(Y_test, Y_pred))\n",
    "score = r2_score(Y_test, Y_pred)\n",
    "\n",
    "print(f\"Mean Squared Error: {mse}\")\n",
    "print(f\"Root Mean Squared Error: {rmse}\")\n",
    "print(f\"Mean Absolute Error: {mae}\")\n",
    "print(f\"Score: {score}\")"
   ]
  },
  {
   "cell_type": "code",
   "execution_count": 32,
   "metadata": {},
   "outputs": [
    {
     "data": {
      "image/png": "[encoded data removed]",
      "text/plain": [
       "<Figure size 640x480 with 1 Axes>"
      ]
     },
     "metadata": {},
     "output_type": "display_data"
    }
   ],
   "source": [
    "plt.scatter(Y_test, Y_pred);"
   ]
  },
  {
   "cell_type": "code",
   "execution_count": 45,
   "metadata": {},
   "outputs": [
    {
     "name": "stdout",
     "output_type": "stream",
     "text": [
      "Mean absolute error 0.6829342750565522\n",
      "R2 Score 0.9810601594164137\n"
     ]
    },
    {
     "data": {
      "image/png": "[encoded data removed]",
      "text/plain": [
       "<Figure size 640x480 with 1 Axes>"
      ]
     },
     "metadata": {},
     "output_type": "display_data"
    }
   ],
   "source": [
    "from sklearn.linear_model import ElasticNetCV\n",
    "elasticcv=ElasticNetCV(cv=5)\n",
    "elasticcv.fit(X_train_scaled,Y_train)\n",
    "y_pred=elasticcv.predict(X_test_scaled)\n",
    "plt.scatter(Y_test,y_pred)\n",
    "mae=mean_absolute_error(Y_test,y_pred)\n",
    "score=r2_score(Y_test,y_pred)\n",
    "print(\"Mean absolute error\", mae)\n",
    "print(\"R2 Score\", score)"
   ]
  },
  {
   "cell_type": "code",
   "execution_count": 47,
   "metadata": {},
   "outputs": [
    {
     "data": {
      "text/plain": [
       "{'alphas': None,\n",
       " 'copy_X': True,\n",
       " 'cv': 5,\n",
       " 'eps': 0.001,\n",
       " 'fit_intercept': True,\n",
       " 'l1_ratio': 0.5,\n",
       " 'max_iter': 1000,\n",
       " 'n_alphas': 100,\n",
       " 'n_jobs': None,\n",
       " 'positive': False,\n",
       " 'precompute': 'auto',\n",
       " 'random_state': None,\n",
       " 'selection': 'cyclic',\n",
       " 'tol': 0.0001,\n",
       " 'verbose': 0}"
      ]
     },
     "execution_count": 47,
     "metadata": {},
     "output_type": "execute_result"
    }
   ],
   "source": [
    "elasticcv.get_params()"
   ]
  }
 ],
 "metadata": {
  "kernelspec": {
   "display_name": "Python 3",
   "language": "python",
   "name": "python3"
  },
  "language_info": {
   "codemirror_mode": {
    "name": "ipython",
    "version": 3
   },
   "file_extension": ".py",
   "mimetype": "text/x-python",
   "name": "python",
   "nbconvert_exporter": "python",
   "pygments_lexer": "ipython3",
   "version": "3.10.14"
  }
 },
 "nbformat": 4,
 "nbformat_minor": 2
}

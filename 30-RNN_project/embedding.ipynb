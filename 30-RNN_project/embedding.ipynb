{
 "cells": [
  {
   "cell_type": "code",
   "execution_count": 1,
   "metadata": {},
   "outputs": [],
   "source": [
    "from tensorflow.keras.preprocessing.text import one_hot"
   ]
  },
  {
   "cell_type": "code",
   "execution_count": 2,
   "metadata": {},
   "outputs": [],
   "source": [
    "### sentences\n",
    "sent=[  'the glass of milk',\n",
    "     'the glass of juice',\n",
    "     'the cup of tea',\n",
    "    'I am a good boy',\n",
    "     'I am a good developer',\n",
    "     'understand the meaning of words',\n",
    "     'your videos are good',]"
   ]
  },
  {
   "cell_type": "code",
   "execution_count": 3,
   "metadata": {},
   "outputs": [
    {
     "data": {
      "text/plain": [
       "['the glass of milk',\n",
       " 'the glass of juice',\n",
       " 'the cup of tea',\n",
       " 'I am a good boy',\n",
       " 'I am a good developer',\n",
       " 'understand the meaning of words',\n",
       " 'your videos are good']"
      ]
     },
     "execution_count": 3,
     "metadata": {},
     "output_type": "execute_result"
    }
   ],
   "source": [
    "sent"
   ]
  },
  {
   "cell_type": "code",
   "execution_count": 4,
   "metadata": {},
   "outputs": [],
   "source": [
    "## Define the vocabulary size\n",
    "voc_size=10000"
   ]
  },
  {
   "cell_type": "code",
   "execution_count": 6,
   "metadata": {},
   "outputs": [
    {
     "data": {
      "text/plain": [
       "[[1878, 454, 2491, 2009],\n",
       " [1878, 454, 2491, 2931],\n",
       " [1878, 4540, 2491, 6397],\n",
       " [4596, 6806, 8504, 7264, 819],\n",
       " [4596, 6806, 8504, 7264, 7553],\n",
       " [6068, 1878, 9594, 2491, 4611],\n",
       " [3820, 8759, 1178, 7264]]"
      ]
     },
     "execution_count": 6,
     "metadata": {},
     "output_type": "execute_result"
    }
   ],
   "source": [
    "### One Hot Representation\n",
    "one_hot_repr=[one_hot(words,voc_size)for words in sent]\n",
    "one_hot_repr\n",
    "# On whihc index, the word will be 1"
   ]
  },
  {
   "cell_type": "code",
   "execution_count": 7,
   "metadata": {},
   "outputs": [],
   "source": [
    "## word Embedding Representation\n",
    "from tensorflow.keras.layers import Embedding\n",
    "\n",
    "# from tensorflow.keras.processing.sequence import pad_sequences\n",
    "from tensorflow.keras.utils import pad_sequences\n",
    "from tensorflow.keras.models import Sequential"
   ]
  },
  {
   "cell_type": "code",
   "execution_count": 8,
   "metadata": {},
   "outputs": [],
   "source": [
    "import numpy as np"
   ]
  },
  {
   "cell_type": "code",
   "execution_count": 9,
   "metadata": {},
   "outputs": [
    {
     "name": "stdout",
     "output_type": "stream",
     "text": [
      "[[   0    0    0    0 1878  454 2491 2009]\n",
      " [   0    0    0    0 1878  454 2491 2931]\n",
      " [   0    0    0    0 1878 4540 2491 6397]\n",
      " [   0    0    0 4596 6806 8504 7264  819]\n",
      " [   0    0    0 4596 6806 8504 7264 7553]\n",
      " [   0    0    0 6068 1878 9594 2491 4611]\n",
      " [   0    0    0    0 3820 8759 1178 7264]]\n"
     ]
    }
   ],
   "source": [
    "sent_length=8\n",
    "embedded_docs=pad_sequences(one_hot_repr,padding='pre',maxlen=sent_length)\n",
    "print(embedded_docs)"
   ]
  },
  {
   "cell_type": "code",
   "execution_count": 10,
   "metadata": {},
   "outputs": [],
   "source": [
    "## feature representation\n",
    "dim=10"
   ]
  },
  {
   "cell_type": "code",
   "execution_count": 16,
   "metadata": {},
   "outputs": [
    {
     "data": {
      "text/html": [
       "<pre style=\"white-space:pre;overflow-x:auto;line-height:normal;font-family:Menlo,'DejaVu Sans Mono',consolas,'Courier New',monospace\"><span style=\"font-weight: bold\">Model: \"sequential_1\"</span>\n",
       "</pre>\n"
      ],
      "text/plain": [
       "\u001b[1mModel: \"sequential_1\"\u001b[0m\n"
      ]
     },
     "metadata": {},
     "output_type": "display_data"
    },
    {
     "data": {
      "text/html": [
       "<pre style=\"white-space:pre;overflow-x:auto;line-height:normal;font-family:Menlo,'DejaVu Sans Mono',consolas,'Courier New',monospace\">┏━━━━━━━━━━━━━━━━━━━━━━━━━━━━━━━━━┳━━━━━━━━━━━━━━━━━━━━━━━━┳━━━━━━━━━━━━━━━┓\n",
       "┃<span style=\"font-weight: bold\"> Layer (type)                    </span>┃<span style=\"font-weight: bold\"> Output Shape           </span>┃<span style=\"font-weight: bold\">       Param # </span>┃\n",
       "┡━━━━━━━━━━━━━━━━━━━━━━━━━━━━━━━━━╇━━━━━━━━━━━━━━━━━━━━━━━━╇━━━━━━━━━━━━━━━┩\n",
       "│ embedding_1 (<span style=\"color: #0087ff; text-decoration-color: #0087ff\">Embedding</span>)         │ (<span style=\"color: #00d7ff; text-decoration-color: #00d7ff\">None</span>, <span style=\"color: #00af00; text-decoration-color: #00af00\">8</span>, <span style=\"color: #00af00; text-decoration-color: #00af00\">10</span>)          │       <span style=\"color: #00af00; text-decoration-color: #00af00\">100,000</span> │\n",
       "└─────────────────────────────────┴────────────────────────┴───────────────┘\n",
       "</pre>\n"
      ],
      "text/plain": [
       "┏━━━━━━━━━━━━━━━━━━━━━━━━━━━━━━━━━┳━━━━━━━━━━━━━━━━━━━━━━━━┳━━━━━━━━━━━━━━━┓\n",
       "┃\u001b[1m \u001b[0m\u001b[1mLayer (type)                   \u001b[0m\u001b[1m \u001b[0m┃\u001b[1m \u001b[0m\u001b[1mOutput Shape          \u001b[0m\u001b[1m \u001b[0m┃\u001b[1m \u001b[0m\u001b[1m      Param #\u001b[0m\u001b[1m \u001b[0m┃\n",
       "┡━━━━━━━━━━━━━━━━━━━━━━━━━━━━━━━━━╇━━━━━━━━━━━━━━━━━━━━━━━━╇━━━━━━━━━━━━━━━┩\n",
       "│ embedding_1 (\u001b[38;5;33mEmbedding\u001b[0m)         │ (\u001b[38;5;45mNone\u001b[0m, \u001b[38;5;34m8\u001b[0m, \u001b[38;5;34m10\u001b[0m)          │       \u001b[38;5;34m100,000\u001b[0m │\n",
       "└─────────────────────────────────┴────────────────────────┴───────────────┘\n"
      ]
     },
     "metadata": {},
     "output_type": "display_data"
    },
    {
     "data": {
      "text/html": [
       "<pre style=\"white-space:pre;overflow-x:auto;line-height:normal;font-family:Menlo,'DejaVu Sans Mono',consolas,'Courier New',monospace\"><span style=\"font-weight: bold\"> Total params: </span><span style=\"color: #00af00; text-decoration-color: #00af00\">100,000</span> (390.62 KB)\n",
       "</pre>\n"
      ],
      "text/plain": [
       "\u001b[1m Total params: \u001b[0m\u001b[38;5;34m100,000\u001b[0m (390.62 KB)\n"
      ]
     },
     "metadata": {},
     "output_type": "display_data"
    },
    {
     "data": {
      "text/html": [
       "<pre style=\"white-space:pre;overflow-x:auto;line-height:normal;font-family:Menlo,'DejaVu Sans Mono',consolas,'Courier New',monospace\"><span style=\"font-weight: bold\"> Trainable params: </span><span style=\"color: #00af00; text-decoration-color: #00af00\">100,000</span> (390.62 KB)\n",
       "</pre>\n"
      ],
      "text/plain": [
       "\u001b[1m Trainable params: \u001b[0m\u001b[38;5;34m100,000\u001b[0m (390.62 KB)\n"
      ]
     },
     "metadata": {},
     "output_type": "display_data"
    },
    {
     "data": {
      "text/html": [
       "<pre style=\"white-space:pre;overflow-x:auto;line-height:normal;font-family:Menlo,'DejaVu Sans Mono',consolas,'Courier New',monospace\"><span style=\"font-weight: bold\"> Non-trainable params: </span><span style=\"color: #00af00; text-decoration-color: #00af00\">0</span> (0.00 B)\n",
       "</pre>\n"
      ],
      "text/plain": [
       "\u001b[1m Non-trainable params: \u001b[0m\u001b[38;5;34m0\u001b[0m (0.00 B)\n"
      ]
     },
     "metadata": {},
     "output_type": "display_data"
    }
   ],
   "source": [
    "model = Sequential()\n",
    "model.add(Embedding(voc_size, dim, input_length=sent_length))\n",
    "model.build((None, sent_length))  # Manually build the model specifying the input shape\n",
    "model.compile('adam', 'mse')\n",
    "model.summary()"
   ]
  },
  {
   "cell_type": "code",
   "execution_count": 17,
   "metadata": {},
   "outputs": [
    {
     "name": "stdout",
     "output_type": "stream",
     "text": [
      "\u001b[1m1/1\u001b[0m \u001b[32m━━━━━━━━━━━━━━━━━━━━\u001b[0m\u001b[37m\u001b[0m \u001b[1m0s\u001b[0m 36ms/step\n"
     ]
    },
    {
     "data": {
      "text/plain": [
       "array([[[-0.04262124,  0.02216533, -0.01957545, -0.00324422,\n",
       "          0.02878294,  0.01914493, -0.03090218,  0.00813895,\n",
       "          0.00095217, -0.02563443],\n",
       "        [-0.04262124,  0.02216533, -0.01957545, -0.00324422,\n",
       "          0.02878294,  0.01914493, -0.03090218,  0.00813895,\n",
       "          0.00095217, -0.02563443],\n",
       "        [-0.04262124,  0.02216533, -0.01957545, -0.00324422,\n",
       "          0.02878294,  0.01914493, -0.03090218,  0.00813895,\n",
       "          0.00095217, -0.02563443],\n",
       "        [-0.04262124,  0.02216533, -0.01957545, -0.00324422,\n",
       "          0.02878294,  0.01914493, -0.03090218,  0.00813895,\n",
       "          0.00095217, -0.02563443],\n",
       "        [-0.01654072, -0.04757398, -0.0331413 ,  0.01817271,\n",
       "         -0.0048602 , -0.02213562, -0.037202  , -0.0310388 ,\n",
       "         -0.03934059, -0.04714165],\n",
       "        [ 0.02976319, -0.04038526, -0.03203799, -0.00020441,\n",
       "          0.01048647,  0.01728928, -0.03245051, -0.00574733,\n",
       "          0.00544338,  0.02438741],\n",
       "        [ 0.03772268, -0.01716502, -0.00432063, -0.04589734,\n",
       "          0.01943484,  0.00154806, -0.04406288, -0.03906192,\n",
       "         -0.04158523, -0.04267576],\n",
       "        [-0.0054943 ,  0.01505573,  0.00695262,  0.04004658,\n",
       "          0.04883868,  0.00175839,  0.00568002,  0.00550982,\n",
       "          0.04416888,  0.01269552]],\n",
       "\n",
       "       [[-0.04262124,  0.02216533, -0.01957545, -0.00324422,\n",
       "          0.02878294,  0.01914493, -0.03090218,  0.00813895,\n",
       "          0.00095217, -0.02563443],\n",
       "        [-0.04262124,  0.02216533, -0.01957545, -0.00324422,\n",
       "          0.02878294,  0.01914493, -0.03090218,  0.00813895,\n",
       "          0.00095217, -0.02563443],\n",
       "        [-0.04262124,  0.02216533, -0.01957545, -0.00324422,\n",
       "          0.02878294,  0.01914493, -0.03090218,  0.00813895,\n",
       "          0.00095217, -0.02563443],\n",
       "        [-0.04262124,  0.02216533, -0.01957545, -0.00324422,\n",
       "          0.02878294,  0.01914493, -0.03090218,  0.00813895,\n",
       "          0.00095217, -0.02563443],\n",
       "        [-0.01654072, -0.04757398, -0.0331413 ,  0.01817271,\n",
       "         -0.0048602 , -0.02213562, -0.037202  , -0.0310388 ,\n",
       "         -0.03934059, -0.04714165],\n",
       "        [ 0.02976319, -0.04038526, -0.03203799, -0.00020441,\n",
       "          0.01048647,  0.01728928, -0.03245051, -0.00574733,\n",
       "          0.00544338,  0.02438741],\n",
       "        [ 0.03772268, -0.01716502, -0.00432063, -0.04589734,\n",
       "          0.01943484,  0.00154806, -0.04406288, -0.03906192,\n",
       "         -0.04158523, -0.04267576],\n",
       "        [-0.04127661, -0.01904628,  0.04091424,  0.01533823,\n",
       "         -0.02365058,  0.03750138,  0.01949407, -0.0116015 ,\n",
       "          0.00574603, -0.03455131]],\n",
       "\n",
       "       [[-0.04262124,  0.02216533, -0.01957545, -0.00324422,\n",
       "          0.02878294,  0.01914493, -0.03090218,  0.00813895,\n",
       "          0.00095217, -0.02563443],\n",
       "        [-0.04262124,  0.02216533, -0.01957545, -0.00324422,\n",
       "          0.02878294,  0.01914493, -0.03090218,  0.00813895,\n",
       "          0.00095217, -0.02563443],\n",
       "        [-0.04262124,  0.02216533, -0.01957545, -0.00324422,\n",
       "          0.02878294,  0.01914493, -0.03090218,  0.00813895,\n",
       "          0.00095217, -0.02563443],\n",
       "        [-0.04262124,  0.02216533, -0.01957545, -0.00324422,\n",
       "          0.02878294,  0.01914493, -0.03090218,  0.00813895,\n",
       "          0.00095217, -0.02563443],\n",
       "        [-0.01654072, -0.04757398, -0.0331413 ,  0.01817271,\n",
       "         -0.0048602 , -0.02213562, -0.037202  , -0.0310388 ,\n",
       "         -0.03934059, -0.04714165],\n",
       "        [ 0.01339724,  0.00270506, -0.01164087,  0.01404014,\n",
       "          0.04721713,  0.01973608, -0.03556984, -0.00237487,\n",
       "          0.04435426,  0.01759942],\n",
       "        [ 0.03772268, -0.01716502, -0.00432063, -0.04589734,\n",
       "          0.01943484,  0.00154806, -0.04406288, -0.03906192,\n",
       "         -0.04158523, -0.04267576],\n",
       "        [ 0.0141455 , -0.0221998 ,  0.03764509,  0.03059144,\n",
       "          0.02832267, -0.01659877,  0.037852  , -0.00971111,\n",
       "          0.0263412 ,  0.04405992]],\n",
       "\n",
       "       [[-0.04262124,  0.02216533, -0.01957545, -0.00324422,\n",
       "          0.02878294,  0.01914493, -0.03090218,  0.00813895,\n",
       "          0.00095217, -0.02563443],\n",
       "        [-0.04262124,  0.02216533, -0.01957545, -0.00324422,\n",
       "          0.02878294,  0.01914493, -0.03090218,  0.00813895,\n",
       "          0.00095217, -0.02563443],\n",
       "        [-0.04262124,  0.02216533, -0.01957545, -0.00324422,\n",
       "          0.02878294,  0.01914493, -0.03090218,  0.00813895,\n",
       "          0.00095217, -0.02563443],\n",
       "        [ 0.03020686, -0.01995552,  0.02123192,  0.04635377,\n",
       "         -0.0229679 ,  0.00218211, -0.00403859, -0.01681163,\n",
       "         -0.02503671,  0.00325616],\n",
       "        [-0.0221041 ,  0.03986809,  0.03528954, -0.02283733,\n",
       "         -0.01817595, -0.02451628, -0.0461787 ,  0.02805421,\n",
       "          0.0212799 ,  0.04031405],\n",
       "        [-0.04798708, -0.01188965, -0.02117112,  0.03375511,\n",
       "         -0.04159706, -0.01979296, -0.02713886, -0.00300174,\n",
       "         -0.01718023, -0.03658081],\n",
       "        [-0.00153259, -0.03205398, -0.01587834,  0.02745615,\n",
       "          0.04811828,  0.02925409,  0.01305309,  0.01341179,\n",
       "          0.02363403,  0.04986069],\n",
       "        [-0.01888261, -0.03017105,  0.02170397, -0.02685109,\n",
       "          0.02269581,  0.02033211, -0.03495865,  0.00404508,\n",
       "          0.01225752, -0.02786292]],\n",
       "\n",
       "       [[-0.04262124,  0.02216533, -0.01957545, -0.00324422,\n",
       "          0.02878294,  0.01914493, -0.03090218,  0.00813895,\n",
       "          0.00095217, -0.02563443],\n",
       "        [-0.04262124,  0.02216533, -0.01957545, -0.00324422,\n",
       "          0.02878294,  0.01914493, -0.03090218,  0.00813895,\n",
       "          0.00095217, -0.02563443],\n",
       "        [-0.04262124,  0.02216533, -0.01957545, -0.00324422,\n",
       "          0.02878294,  0.01914493, -0.03090218,  0.00813895,\n",
       "          0.00095217, -0.02563443],\n",
       "        [ 0.03020686, -0.01995552,  0.02123192,  0.04635377,\n",
       "         -0.0229679 ,  0.00218211, -0.00403859, -0.01681163,\n",
       "         -0.02503671,  0.00325616],\n",
       "        [-0.0221041 ,  0.03986809,  0.03528954, -0.02283733,\n",
       "         -0.01817595, -0.02451628, -0.0461787 ,  0.02805421,\n",
       "          0.0212799 ,  0.04031405],\n",
       "        [-0.04798708, -0.01188965, -0.02117112,  0.03375511,\n",
       "         -0.04159706, -0.01979296, -0.02713886, -0.00300174,\n",
       "         -0.01718023, -0.03658081],\n",
       "        [-0.00153259, -0.03205398, -0.01587834,  0.02745615,\n",
       "          0.04811828,  0.02925409,  0.01305309,  0.01341179,\n",
       "          0.02363403,  0.04986069],\n",
       "        [-0.01098822, -0.0358049 , -0.01410116, -0.02020206,\n",
       "          0.01730302,  0.01611862,  0.01221693,  0.0253526 ,\n",
       "          0.01032164, -0.01078022]],\n",
       "\n",
       "       [[-0.04262124,  0.02216533, -0.01957545, -0.00324422,\n",
       "          0.02878294,  0.01914493, -0.03090218,  0.00813895,\n",
       "          0.00095217, -0.02563443],\n",
       "        [-0.04262124,  0.02216533, -0.01957545, -0.00324422,\n",
       "          0.02878294,  0.01914493, -0.03090218,  0.00813895,\n",
       "          0.00095217, -0.02563443],\n",
       "        [-0.04262124,  0.02216533, -0.01957545, -0.00324422,\n",
       "          0.02878294,  0.01914493, -0.03090218,  0.00813895,\n",
       "          0.00095217, -0.02563443],\n",
       "        [-0.00731815, -0.03307446,  0.03178308, -0.0490917 ,\n",
       "         -0.00443263,  0.00313466,  0.0061837 , -0.03862753,\n",
       "          0.00455164, -0.01176556],\n",
       "        [-0.01654072, -0.04757398, -0.0331413 ,  0.01817271,\n",
       "         -0.0048602 , -0.02213562, -0.037202  , -0.0310388 ,\n",
       "         -0.03934059, -0.04714165],\n",
       "        [ 0.04143274, -0.0403656 ,  0.0141098 ,  0.02338508,\n",
       "          0.02073537,  0.04835284, -0.01223725, -0.01871095,\n",
       "          0.04871935,  0.0276725 ],\n",
       "        [ 0.03772268, -0.01716502, -0.00432063, -0.04589734,\n",
       "          0.01943484,  0.00154806, -0.04406288, -0.03906192,\n",
       "         -0.04158523, -0.04267576],\n",
       "        [ 0.00030858,  0.00946243,  0.04117582, -0.01612534,\n",
       "          0.03627973, -0.0307495 ,  0.01662643, -0.00402846,\n",
       "         -0.02841899,  0.02730909]],\n",
       "\n",
       "       [[-0.04262124,  0.02216533, -0.01957545, -0.00324422,\n",
       "          0.02878294,  0.01914493, -0.03090218,  0.00813895,\n",
       "          0.00095217, -0.02563443],\n",
       "        [-0.04262124,  0.02216533, -0.01957545, -0.00324422,\n",
       "          0.02878294,  0.01914493, -0.03090218,  0.00813895,\n",
       "          0.00095217, -0.02563443],\n",
       "        [-0.04262124,  0.02216533, -0.01957545, -0.00324422,\n",
       "          0.02878294,  0.01914493, -0.03090218,  0.00813895,\n",
       "          0.00095217, -0.02563443],\n",
       "        [-0.04262124,  0.02216533, -0.01957545, -0.00324422,\n",
       "          0.02878294,  0.01914493, -0.03090218,  0.00813895,\n",
       "          0.00095217, -0.02563443],\n",
       "        [-0.0190119 ,  0.04138181,  0.03637979,  0.03315422,\n",
       "          0.00425131, -0.0287155 ,  0.00186963, -0.0402699 ,\n",
       "         -0.01039233,  0.00459529],\n",
       "        [-0.04519898, -0.02928737,  0.03229887, -0.00605907,\n",
       "          0.04859492, -0.00673697,  0.04927422, -0.0244745 ,\n",
       "          0.0153974 ,  0.01710268],\n",
       "        [ 0.04591003,  0.0326146 ,  0.01809337,  0.0129205 ,\n",
       "          0.02973953,  0.03866536,  0.01289772,  0.01676086,\n",
       "         -0.00312604, -0.02471589],\n",
       "        [-0.00153259, -0.03205398, -0.01587834,  0.02745615,\n",
       "          0.04811828,  0.02925409,  0.01305309,  0.01341179,\n",
       "          0.02363403,  0.04986069]]], dtype=float32)"
      ]
     },
     "execution_count": 17,
     "metadata": {},
     "output_type": "execute_result"
    }
   ],
   "source": [
    "model.predict(embedded_docs)"
   ]
  },
  {
   "cell_type": "code",
   "execution_count": 18,
   "metadata": {},
   "outputs": [
    {
     "data": {
      "text/plain": [
       "array([   0,    0,    0,    0, 1878,  454, 2491, 2009])"
      ]
     },
     "execution_count": 18,
     "metadata": {},
     "output_type": "execute_result"
    }
   ],
   "source": [
    "embedded_docs[0]"
   ]
  },
  {
   "cell_type": "code",
   "execution_count": 19,
   "metadata": {},
   "outputs": [
    {
     "ename": "ValueError",
     "evalue": "Exception encountered when calling Sequential.call().\n\n\u001b[1mCannot take the length of shape with unknown rank.\u001b[0m\n\nArguments received by Sequential.call():\n  • inputs=tf.Tensor(shape=<unknown>, dtype=int32)\n  • training=False\n  • mask=None",
     "output_type": "error",
     "traceback": [
      "\u001b[1;31m---------------------------------------------------------------------------\u001b[0m",
      "\u001b[1;31mValueError\u001b[0m                                Traceback (most recent call last)",
      "Cell \u001b[1;32mIn[19], line 1\u001b[0m\n\u001b[1;32m----> 1\u001b[0m \u001b[43mmodel\u001b[49m\u001b[38;5;241;43m.\u001b[39;49m\u001b[43mpredict\u001b[49m\u001b[43m(\u001b[49m\u001b[43membedded_docs\u001b[49m\u001b[43m[\u001b[49m\u001b[38;5;241;43m0\u001b[39;49m\u001b[43m]\u001b[49m\u001b[43m)\u001b[49m\n",
      "File \u001b[1;32mc:\\Udemy-Data-Science-Krish-Naik\\venv\\lib\\site-packages\\keras\\src\\utils\\traceback_utils.py:122\u001b[0m, in \u001b[0;36mfilter_traceback.<locals>.error_handler\u001b[1;34m(*args, **kwargs)\u001b[0m\n\u001b[0;32m    119\u001b[0m     filtered_tb \u001b[38;5;241m=\u001b[39m _process_traceback_frames(e\u001b[38;5;241m.\u001b[39m__traceback__)\n\u001b[0;32m    120\u001b[0m     \u001b[38;5;66;03m# To get the full stack trace, call:\u001b[39;00m\n\u001b[0;32m    121\u001b[0m     \u001b[38;5;66;03m# `keras.config.disable_traceback_filtering()`\u001b[39;00m\n\u001b[1;32m--> 122\u001b[0m     \u001b[38;5;28;01mraise\u001b[39;00m e\u001b[38;5;241m.\u001b[39mwith_traceback(filtered_tb) \u001b[38;5;28;01mfrom\u001b[39;00m \u001b[38;5;28;01mNone\u001b[39;00m\n\u001b[0;32m    123\u001b[0m \u001b[38;5;28;01mfinally\u001b[39;00m:\n\u001b[0;32m    124\u001b[0m     \u001b[38;5;28;01mdel\u001b[39;00m filtered_tb\n",
      "File \u001b[1;32mc:\\Udemy-Data-Science-Krish-Naik\\venv\\lib\\site-packages\\keras\\src\\utils\\traceback_utils.py:122\u001b[0m, in \u001b[0;36mfilter_traceback.<locals>.error_handler\u001b[1;34m(*args, **kwargs)\u001b[0m\n\u001b[0;32m    119\u001b[0m     filtered_tb \u001b[38;5;241m=\u001b[39m _process_traceback_frames(e\u001b[38;5;241m.\u001b[39m__traceback__)\n\u001b[0;32m    120\u001b[0m     \u001b[38;5;66;03m# To get the full stack trace, call:\u001b[39;00m\n\u001b[0;32m    121\u001b[0m     \u001b[38;5;66;03m# `keras.config.disable_traceback_filtering()`\u001b[39;00m\n\u001b[1;32m--> 122\u001b[0m     \u001b[38;5;28;01mraise\u001b[39;00m e\u001b[38;5;241m.\u001b[39mwith_traceback(filtered_tb) \u001b[38;5;28;01mfrom\u001b[39;00m \u001b[38;5;28;01mNone\u001b[39;00m\n\u001b[0;32m    123\u001b[0m \u001b[38;5;28;01mfinally\u001b[39;00m:\n\u001b[0;32m    124\u001b[0m     \u001b[38;5;28;01mdel\u001b[39;00m filtered_tb\n",
      "\u001b[1;31mValueError\u001b[0m: Exception encountered when calling Sequential.call().\n\n\u001b[1mCannot take the length of shape with unknown rank.\u001b[0m\n\nArguments received by Sequential.call():\n  • inputs=tf.Tensor(shape=<unknown>, dtype=int32)\n  • training=False\n  • mask=None"
     ]
    }
   ],
   "source": [
    "model.predict(embedded_docs[0])"
   ]
  }
 ],
 "metadata": {
  "kernelspec": {
   "display_name": "Python 3",
   "language": "python",
   "name": "python3"
  },
  "language_info": {
   "codemirror_mode": {
    "name": "ipython",
    "version": 3
   },
   "file_extension": ".py",
   "mimetype": "text/x-python",
   "name": "python",
   "nbconvert_exporter": "python",
   "pygments_lexer": "ipython3",
   "version": "3.10.14"
  }
 },
 "nbformat": 4,
 "nbformat_minor": 2
}

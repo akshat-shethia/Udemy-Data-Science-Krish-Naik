{
 "cells": [
  {
   "cell_type": "code",
   "execution_count": 1,
   "metadata": {},
   "outputs": [],
   "source": [
    "# Step 1: Import Libraries and Load the Model\n",
    "import numpy as np\n",
    "import tensorflow as tf\n",
    "from tensorflow.keras.datasets import imdb\n",
    "from tensorflow.keras.preprocessing import sequence\n",
    "from tensorflow.keras.models import load_model"
   ]
  },
  {
   "cell_type": "code",
   "execution_count": 2,
   "metadata": {},
   "outputs": [],
   "source": [
    "# Load the IMDB dataset word index\n",
    "word_index = imdb.get_word_index()\n",
    "reverse_word_index = {value: key for key, value in word_index.items()}"
   ]
  },
  {
   "cell_type": "code",
   "execution_count": 3,
   "metadata": {},
   "outputs": [
    {
     "name": "stderr",
     "output_type": "stream",
     "text": [
      "WARNING:absl:Compiled the loaded model, but the compiled metrics have yet to be built. `model.compile_metrics` will be empty until you train or evaluate the model.\n"
     ]
    },
    {
     "data": {
      "text/html": [
       "<pre style=\"white-space:pre;overflow-x:auto;line-height:normal;font-family:Menlo,'DejaVu Sans Mono',consolas,'Courier New',monospace\"><span style=\"font-weight: bold\">Model: \"sequential_1\"</span>\n",
       "</pre>\n"
      ],
      "text/plain": [
       "\u001b[1mModel: \"sequential_1\"\u001b[0m\n"
      ]
     },
     "metadata": {},
     "output_type": "display_data"
    },
    {
     "data": {
      "text/html": [
       "<pre style=\"white-space:pre;overflow-x:auto;line-height:normal;font-family:Menlo,'DejaVu Sans Mono',consolas,'Courier New',monospace\">┏━━━━━━━━━━━━━━━━━━━━━━━━━━━━━━━━━┳━━━━━━━━━━━━━━━━━━━━━━━━┳━━━━━━━━━━━━━━━┓\n",
       "┃<span style=\"font-weight: bold\"> Layer (type)                    </span>┃<span style=\"font-weight: bold\"> Output Shape           </span>┃<span style=\"font-weight: bold\">       Param # </span>┃\n",
       "┡━━━━━━━━━━━━━━━━━━━━━━━━━━━━━━━━━╇━━━━━━━━━━━━━━━━━━━━━━━━╇━━━━━━━━━━━━━━━┩\n",
       "│ embedding_1 (<span style=\"color: #0087ff; text-decoration-color: #0087ff\">Embedding</span>)         │ (<span style=\"color: #00d7ff; text-decoration-color: #00d7ff\">None</span>, <span style=\"color: #00af00; text-decoration-color: #00af00\">100</span>, <span style=\"color: #00af00; text-decoration-color: #00af00\">128</span>)       │     <span style=\"color: #00af00; text-decoration-color: #00af00\">1,280,000</span> │\n",
       "├─────────────────────────────────┼────────────────────────┼───────────────┤\n",
       "│ simple_rnn_1 (<span style=\"color: #0087ff; text-decoration-color: #0087ff\">SimpleRNN</span>)        │ (<span style=\"color: #00d7ff; text-decoration-color: #00d7ff\">None</span>, <span style=\"color: #00af00; text-decoration-color: #00af00\">128</span>)            │        <span style=\"color: #00af00; text-decoration-color: #00af00\">32,896</span> │\n",
       "├─────────────────────────────────┼────────────────────────┼───────────────┤\n",
       "│ dense_1 (<span style=\"color: #0087ff; text-decoration-color: #0087ff\">Dense</span>)                 │ (<span style=\"color: #00d7ff; text-decoration-color: #00d7ff\">None</span>, <span style=\"color: #00af00; text-decoration-color: #00af00\">1</span>)              │           <span style=\"color: #00af00; text-decoration-color: #00af00\">129</span> │\n",
       "└─────────────────────────────────┴────────────────────────┴───────────────┘\n",
       "</pre>\n"
      ],
      "text/plain": [
       "┏━━━━━━━━━━━━━━━━━━━━━━━━━━━━━━━━━┳━━━━━━━━━━━━━━━━━━━━━━━━┳━━━━━━━━━━━━━━━┓\n",
       "┃\u001b[1m \u001b[0m\u001b[1mLayer (type)                   \u001b[0m\u001b[1m \u001b[0m┃\u001b[1m \u001b[0m\u001b[1mOutput Shape          \u001b[0m\u001b[1m \u001b[0m┃\u001b[1m \u001b[0m\u001b[1m      Param #\u001b[0m\u001b[1m \u001b[0m┃\n",
       "┡━━━━━━━━━━━━━━━━━━━━━━━━━━━━━━━━━╇━━━━━━━━━━━━━━━━━━━━━━━━╇━━━━━━━━━━━━━━━┩\n",
       "│ embedding_1 (\u001b[38;5;33mEmbedding\u001b[0m)         │ (\u001b[38;5;45mNone\u001b[0m, \u001b[38;5;34m100\u001b[0m, \u001b[38;5;34m128\u001b[0m)       │     \u001b[38;5;34m1,280,000\u001b[0m │\n",
       "├─────────────────────────────────┼────────────────────────┼───────────────┤\n",
       "│ simple_rnn_1 (\u001b[38;5;33mSimpleRNN\u001b[0m)        │ (\u001b[38;5;45mNone\u001b[0m, \u001b[38;5;34m128\u001b[0m)            │        \u001b[38;5;34m32,896\u001b[0m │\n",
       "├─────────────────────────────────┼────────────────────────┼───────────────┤\n",
       "│ dense_1 (\u001b[38;5;33mDense\u001b[0m)                 │ (\u001b[38;5;45mNone\u001b[0m, \u001b[38;5;34m1\u001b[0m)              │           \u001b[38;5;34m129\u001b[0m │\n",
       "└─────────────────────────────────┴────────────────────────┴───────────────┘\n"
      ]
     },
     "metadata": {},
     "output_type": "display_data"
    },
    {
     "data": {
      "text/html": [
       "<pre style=\"white-space:pre;overflow-x:auto;line-height:normal;font-family:Menlo,'DejaVu Sans Mono',consolas,'Courier New',monospace\"><span style=\"font-weight: bold\"> Total params: </span><span style=\"color: #00af00; text-decoration-color: #00af00\">1,313,027</span> (5.01 MB)\n",
       "</pre>\n"
      ],
      "text/plain": [
       "\u001b[1m Total params: \u001b[0m\u001b[38;5;34m1,313,027\u001b[0m (5.01 MB)\n"
      ]
     },
     "metadata": {},
     "output_type": "display_data"
    },
    {
     "data": {
      "text/html": [
       "<pre style=\"white-space:pre;overflow-x:auto;line-height:normal;font-family:Menlo,'DejaVu Sans Mono',consolas,'Courier New',monospace\"><span style=\"font-weight: bold\"> Trainable params: </span><span style=\"color: #00af00; text-decoration-color: #00af00\">1,313,025</span> (5.01 MB)\n",
       "</pre>\n"
      ],
      "text/plain": [
       "\u001b[1m Trainable params: \u001b[0m\u001b[38;5;34m1,313,025\u001b[0m (5.01 MB)\n"
      ]
     },
     "metadata": {},
     "output_type": "display_data"
    },
    {
     "data": {
      "text/html": [
       "<pre style=\"white-space:pre;overflow-x:auto;line-height:normal;font-family:Menlo,'DejaVu Sans Mono',consolas,'Courier New',monospace\"><span style=\"font-weight: bold\"> Non-trainable params: </span><span style=\"color: #00af00; text-decoration-color: #00af00\">0</span> (0.00 B)\n",
       "</pre>\n"
      ],
      "text/plain": [
       "\u001b[1m Non-trainable params: \u001b[0m\u001b[38;5;34m0\u001b[0m (0.00 B)\n"
      ]
     },
     "metadata": {},
     "output_type": "display_data"
    },
    {
     "data": {
      "text/html": [
       "<pre style=\"white-space:pre;overflow-x:auto;line-height:normal;font-family:Menlo,'DejaVu Sans Mono',consolas,'Courier New',monospace\"><span style=\"font-weight: bold\"> Optimizer params: </span><span style=\"color: #00af00; text-decoration-color: #00af00\">2</span> (12.00 B)\n",
       "</pre>\n"
      ],
      "text/plain": [
       "\u001b[1m Optimizer params: \u001b[0m\u001b[38;5;34m2\u001b[0m (12.00 B)\n"
      ]
     },
     "metadata": {},
     "output_type": "display_data"
    }
   ],
   "source": [
    "# Load the pre-trained model with ReLU activation\n",
    "model = load_model('simple_rnn_imdb.h5')\n",
    "model.summary()"
   ]
  },
  {
   "cell_type": "code",
   "execution_count": 4,
   "metadata": {},
   "outputs": [
    {
     "data": {
      "text/plain": [
       "[array([[-0.26391298,  0.09559996, -0.09434192, ..., -0.06824064,\n",
       "         -0.0870244 ,  0.14396118],\n",
       "        [-0.03135997,  0.09000397, -0.04216636, ..., -0.04764095,\n",
       "          0.05551997, -0.01288462],\n",
       "        [-0.13679557,  0.20342904, -0.16907313, ..., -0.18253863,\n",
       "          0.12343777,  0.06169754],\n",
       "        ...,\n",
       "        [-0.01724796,  0.01876489, -0.02190165, ...,  0.03573155,\n",
       "         -0.00058076, -0.0178269 ],\n",
       "        [ 0.02360899,  0.03594571,  0.05318438, ..., -0.02457204,\n",
       "         -0.06614088, -0.06803527],\n",
       "        [ 0.07018359,  0.07429634, -0.00995008, ..., -0.00695131,\n",
       "          0.08240242,  0.03702223]], dtype=float32),\n",
       " array([[ 0.07205684,  0.13946137,  0.0909492 , ...,  0.00437521,\n",
       "         -0.07449836,  0.15807676],\n",
       "        [ 0.02941316,  0.15422317,  0.15876268, ...,  0.06977398,\n",
       "          0.11993159,  0.16862148],\n",
       "        [ 0.1501721 , -0.00419155,  0.01029647, ...,  0.00785776,\n",
       "          0.02251286, -0.0871576 ],\n",
       "        ...,\n",
       "        [-0.04293043, -0.03308519,  0.06685109, ..., -0.08604608,\n",
       "         -0.0585152 ,  0.1393097 ],\n",
       "        [ 0.1403279 ,  0.03599742, -0.02971711, ..., -0.14625067,\n",
       "         -0.06185979,  0.01182056],\n",
       "        [-0.25128874,  0.13995606, -0.07221586, ..., -0.07778756,\n",
       "          0.0072618 ,  0.0939049 ]], dtype=float32),\n",
       " array([[-0.13839032,  0.06926437,  0.12485223, ...,  0.0082387 ,\n",
       "          0.04248343, -0.05729677],\n",
       "        [ 0.04225789,  0.04131394, -0.19119856, ..., -0.02138167,\n",
       "          0.1307862 ,  0.00892628],\n",
       "        [-0.03639446, -0.02090135,  0.10321047, ...,  0.20679305,\n",
       "          0.07810983, -0.05345676],\n",
       "        ...,\n",
       "        [ 0.15399426, -0.06013911,  0.03487761, ...,  0.05622433,\n",
       "         -0.11173449,  0.0361942 ],\n",
       "        [ 0.11004802, -0.11739712,  0.05182315, ..., -0.23163192,\n",
       "          0.12230892,  0.02418293],\n",
       "        [ 0.12854184,  0.13204278, -0.06822553, ...,  0.14881593,\n",
       "         -0.02519358, -0.11363944]], dtype=float32),\n",
       " array([ 8.8857394e-04, -2.3816593e-03,  3.4390409e-03, -3.7130263e-02,\n",
       "        -1.6449319e-02, -4.1607596e-02, -4.3690568e-03,  5.3876933e-02,\n",
       "        -4.0001750e-02, -2.4277063e-03, -2.8787178e-04, -4.7680568e-02,\n",
       "         2.5665659e-02, -6.6039875e-02, -1.1824299e-02, -2.7443506e-02,\n",
       "        -5.4158609e-02, -2.6615690e-02, -4.1447986e-02, -6.8531237e-03,\n",
       "        -1.4738574e-02, -5.3818282e-02,  1.9456198e-02,  2.6730616e-02,\n",
       "        -2.5376372e-02,  8.9226506e-04, -4.1345127e-02, -3.9863970e-02,\n",
       "        -5.5153050e-02, -8.0903079e-03, -5.7543833e-03,  2.5181515e-02,\n",
       "         2.9301433e-02, -3.0855205e-02, -3.8028110e-02,  3.4735709e-02,\n",
       "        -7.0523612e-02, -6.3726932e-02, -1.3456994e-05, -2.8427863e-02,\n",
       "        -2.3210958e-02,  7.4534297e-02,  1.9752085e-02, -2.2988072e-02,\n",
       "        -5.2641440e-02,  2.0788692e-02, -5.8450252e-02,  2.4495805e-03,\n",
       "         8.3332369e-03,  1.0399551e-03, -5.0525427e-02, -7.0604729e-03,\n",
       "        -7.3665623e-03,  2.6469480e-02, -6.1085679e-02, -6.8477062e-03,\n",
       "         2.1532256e-02,  6.8802141e-02, -3.3863101e-02, -4.7715098e-02,\n",
       "        -4.7095131e-02, -1.4230371e-02,  2.2432534e-03,  2.9021362e-02,\n",
       "        -3.0214788e-02, -5.4988526e-02, -4.0717326e-02, -7.0421539e-02,\n",
       "         3.3821795e-02, -3.8639143e-02, -1.6490258e-02, -4.7987312e-02,\n",
       "        -2.5235558e-02, -4.2635065e-02,  1.6050814e-02, -6.5549933e-03,\n",
       "         1.9091789e-02, -1.4159076e-02, -2.7139938e-02, -4.0402345e-02,\n",
       "         6.6236779e-02,  3.0775169e-02, -1.6155310e-02, -3.0173717e-02,\n",
       "        -9.4448635e-03, -6.2168717e-02,  3.7679646e-02, -1.7068073e-03,\n",
       "        -1.4822709e-02, -5.2863616e-02, -1.0628209e-02, -3.8223878e-02,\n",
       "        -8.1803083e-02,  8.9819776e-03,  1.5089971e-02, -9.2469178e-05,\n",
       "        -3.3701453e-02, -3.1771731e-02, -2.0251698e-03,  4.4901269e-03,\n",
       "        -1.0576476e-02, -3.0386843e-02, -4.6981882e-02, -1.6538100e-02,\n",
       "        -3.1050313e-02, -4.1502234e-02,  1.5743308e-02,  2.0948606e-02,\n",
       "        -5.6913007e-02, -3.5024680e-02,  4.3202959e-02, -4.5122799e-02,\n",
       "        -2.8019344e-02, -3.4124233e-02,  3.4824230e-02,  8.5297525e-03,\n",
       "        -4.6541551e-03, -4.9338028e-02,  6.1250222e-03, -4.6604954e-02,\n",
       "        -1.5688354e-02, -4.7938071e-02, -9.1716163e-03,  2.4018916e-03,\n",
       "        -6.0782414e-02, -4.1114237e-02,  4.8292638e-03, -2.6100157e-02],\n",
       "       dtype=float32),\n",
       " array([[ 0.35831293],\n",
       "        [ 0.20646615],\n",
       "        [-0.23679514],\n",
       "        [-0.25914463],\n",
       "        [ 0.03748201],\n",
       "        [ 0.21319444],\n",
       "        [-0.15171787],\n",
       "        [ 0.21932401],\n",
       "        [ 0.24364291],\n",
       "        [-0.02491037],\n",
       "        [ 0.0692405 ],\n",
       "        [-0.16399433],\n",
       "        [ 0.1823258 ],\n",
       "        [ 0.12105326],\n",
       "        [ 0.12974489],\n",
       "        [-0.17524526],\n",
       "        [-0.2190834 ],\n",
       "        [ 0.31954867],\n",
       "        [ 0.34007263],\n",
       "        [-0.33713958],\n",
       "        [ 0.04675173],\n",
       "        [ 0.21997817],\n",
       "        [-0.14676295],\n",
       "        [ 0.06926563],\n",
       "        [-0.17188562],\n",
       "        [-0.22331941],\n",
       "        [-0.15510155],\n",
       "        [ 0.2758631 ],\n",
       "        [-0.1261996 ],\n",
       "        [ 0.24407113],\n",
       "        [ 0.11304568],\n",
       "        [ 0.26240447],\n",
       "        [ 0.12635608],\n",
       "        [ 0.17223963],\n",
       "        [-0.38360533],\n",
       "        [ 0.06601526],\n",
       "        [-0.16613172],\n",
       "        [ 0.0730681 ],\n",
       "        [-0.25448394],\n",
       "        [ 0.3809518 ],\n",
       "        [-0.07544482],\n",
       "        [ 0.19750969],\n",
       "        [-0.04105142],\n",
       "        [-0.02827323],\n",
       "        [ 0.00473638],\n",
       "        [-0.16434488],\n",
       "        [-0.21219261],\n",
       "        [ 0.07652523],\n",
       "        [ 0.21450499],\n",
       "        [-0.06660122],\n",
       "        [ 0.19679756],\n",
       "        [ 0.12995693],\n",
       "        [ 0.40045184],\n",
       "        [ 0.24371266],\n",
       "        [ 0.11523896],\n",
       "        [ 0.01359244],\n",
       "        [ 0.27721426],\n",
       "        [-0.19735308],\n",
       "        [-0.13397951],\n",
       "        [-0.0992352 ],\n",
       "        [ 0.0182905 ],\n",
       "        [ 0.09215979],\n",
       "        [ 0.07143513],\n",
       "        [-0.2115008 ],\n",
       "        [-0.24111693],\n",
       "        [-0.23113754],\n",
       "        [ 0.10020177],\n",
       "        [ 0.11690632],\n",
       "        [-0.18302678],\n",
       "        [-0.23630074],\n",
       "        [ 0.01573086],\n",
       "        [ 0.02113185],\n",
       "        [-0.12821664],\n",
       "        [-0.10619305],\n",
       "        [ 0.10523037],\n",
       "        [-0.07355161],\n",
       "        [ 0.05518207],\n",
       "        [-0.17277855],\n",
       "        [-0.13395184],\n",
       "        [ 0.15706173],\n",
       "        [-0.6731975 ],\n",
       "        [ 0.1749694 ],\n",
       "        [ 0.04298151],\n",
       "        [ 0.22507252],\n",
       "        [-0.15587538],\n",
       "        [ 0.1441087 ],\n",
       "        [-0.14363506],\n",
       "        [-0.29902098],\n",
       "        [-0.5270511 ],\n",
       "        [-0.18489416],\n",
       "        [ 0.38622388],\n",
       "        [-0.06705351],\n",
       "        [ 0.03012517],\n",
       "        [ 0.19331342],\n",
       "        [ 0.0981604 ],\n",
       "        [-0.08222874],\n",
       "        [-0.1191052 ],\n",
       "        [-0.11532893],\n",
       "        [-0.00407417],\n",
       "        [-0.26062056],\n",
       "        [-0.05913559],\n",
       "        [-0.20328228],\n",
       "        [ 0.18285096],\n",
       "        [-0.09281203],\n",
       "        [-0.07069039],\n",
       "        [-0.17537744],\n",
       "        [-0.05448976],\n",
       "        [-0.1695514 ],\n",
       "        [ 0.08383273],\n",
       "        [ 0.17323886],\n",
       "        [-0.2673877 ],\n",
       "        [ 0.07630718],\n",
       "        [-0.08708364],\n",
       "        [-0.05501893],\n",
       "        [ 0.07953201],\n",
       "        [ 0.00717773],\n",
       "        [-0.0944316 ],\n",
       "        [ 0.11284195],\n",
       "        [-0.3407065 ],\n",
       "        [-0.2428267 ],\n",
       "        [-0.5267235 ],\n",
       "        [-0.21367402],\n",
       "        [-0.22251588],\n",
       "        [-0.1601488 ],\n",
       "        [-0.29761297],\n",
       "        [-0.22248058],\n",
       "        [ 0.07612683],\n",
       "        [-0.36202314]], dtype=float32),\n",
       " array([-0.18871596], dtype=float32)]"
      ]
     },
     "execution_count": 4,
     "metadata": {},
     "output_type": "execute_result"
    }
   ],
   "source": [
    "model.get_weights()"
   ]
  },
  {
   "cell_type": "code",
   "execution_count": 5,
   "metadata": {},
   "outputs": [],
   "source": [
    "# Step 2: Helper Functions\n",
    "# Function to decode reviews\n",
    "def decode_review(encoded_review):\n",
    "    return ' '.join([reverse_word_index.get(i - 3, '?') for i in encoded_review])\n",
    "\n",
    "# Function to preprocess user input\n",
    "def preprocess_text(text):\n",
    "    words = text.lower().split()\n",
    "    encoded_review = [word_index.get(word, 2) + 3 for word in words]\n",
    "    padded_review = sequence.pad_sequences([encoded_review], maxlen=500)\n",
    "    return padded_review"
   ]
  },
  {
   "cell_type": "code",
   "execution_count": 6,
   "metadata": {},
   "outputs": [],
   "source": [
    "### Prediction  function\n",
    "\n",
    "def predict_sentiment(review):\n",
    "    preprocessed_input=preprocess_text(review)\n",
    "\n",
    "    prediction=model.predict(preprocessed_input)\n",
    "\n",
    "    sentiment = 'Positive' if prediction[0][0] > 0.5 else 'Negative'\n",
    "    \n",
    "    return sentiment, prediction[0][0]"
   ]
  },
  {
   "cell_type": "code",
   "execution_count": 7,
   "metadata": {},
   "outputs": [
    {
     "name": "stdout",
     "output_type": "stream",
     "text": [
      "1/1 [==============================] - 0s 196ms/step\n",
      "Review: This movie was fantastic! The acting was great and the plot was thrilling.\n",
      "Sentiment: Positive\n",
      "Prediction Score: 0.8114995360374451\n"
     ]
    }
   ],
   "source": [
    "# Step 4: User Input and Prediction\n",
    "# Example review for prediction\n",
    "example_review = \"This movie was fantastic! The acting was great and the plot was thrilling.\"\n",
    "\n",
    "sentiment,score=predict_sentiment(example_review)\n",
    "\n",
    "print(f'Review: {example_review}')\n",
    "print(f'Sentiment: {sentiment}')\n",
    "print(f'Prediction Score: {score}')"
   ]
  }
 ],
 "metadata": {
  "kernelspec": {
   "display_name": "Python 3",
   "language": "python",
   "name": "python3"
  },
  "language_info": {
   "codemirror_mode": {
    "name": "ipython",
    "version": 3
   },
   "file_extension": ".py",
   "mimetype": "text/x-python",
   "name": "python",
   "nbconvert_exporter": "python",
   "pygments_lexer": "ipython3",
   "version": "3.10.14"
  }
 },
 "nbformat": 4,
 "nbformat_minor": 2
}
